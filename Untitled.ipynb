{
 "cells": [
  {
   "cell_type": "code",
   "execution_count": 1,
   "metadata": {},
   "outputs": [],
   "source": [
    "import pandas as pd\n",
    "import numpy as np\n",
    "import matplotlib.pyplot as plt\n",
    "from matplotlib import pyplot\n",
    "import seaborn as sns\n",
    "from sklearn.preprocessing import LabelEncoder\n",
    "from sklearn.model_selection import train_test_split\n",
    "from sklearn.preprocessing import StandardScaler\n",
    "from sklearn.neighbors import KNeighborsClassifier\n",
    "from sklearn.tree import DecisionTreeClassifier\n",
    "from xgboost import XGBClassifier\n",
    "from sklearn.metrics import plot_confusion_matrix, f1_score, classification_report, recall_score, log_loss, precision_score\n",
    "from sklearn.model_selection import GridSearchCV\n",
    "from sklearn.metrics import accuracy_score\n",
    "from sklearn.metrics import roc_curve, auc\n",
    "from sklearn.ensemble import RandomForestClassifier\n",
    "from sklearn.linear_model import LogisticRegression\n",
    "from sklearn.model_selection import GridSearchCV\n",
    "from imblearn.over_sampling import SMOTE\n",
    "from sklearn.metrics import confusion_matrix, make_scorer\n",
    "from sklearn.model_selection import cross_val_score\n",
    "from xgboost import XGBClassifier\n",
    "from sklearn.pipeline import Pipeline\n",
    "\n",
    "\n",
    "\n",
    "\n",
    "\n",
    "import warnings\n",
    "warnings.filterwarnings('ignore')\n",
    "%matplotlib inline\n",
    "\n",
    "pd.options.display.float_format = '{:,.3f}'.format\n",
    "pd.set_option('display.max_columns', None)\n",
    "pd.set_option('max_rows', 200)\n",
    "pd.set_option('display.max_colwidth', 150)"
   ]
  },
  {
   "cell_type": "code",
   "execution_count": 53,
   "metadata": {},
   "outputs": [
    {
     "data": {
      "text/html": [
       "<div>\n",
       "<style scoped>\n",
       "    .dataframe tbody tr th:only-of-type {\n",
       "        vertical-align: middle;\n",
       "    }\n",
       "\n",
       "    .dataframe tbody tr th {\n",
       "        vertical-align: top;\n",
       "    }\n",
       "\n",
       "    .dataframe thead th {\n",
       "        text-align: right;\n",
       "    }\n",
       "</style>\n",
       "<table border=\"1\" class=\"dataframe\">\n",
       "  <thead>\n",
       "    <tr style=\"text-align: right;\">\n",
       "      <th></th>\n",
       "      <th>state</th>\n",
       "      <th>account_length</th>\n",
       "      <th>area_code</th>\n",
       "      <th>international_plan</th>\n",
       "      <th>voice_mail_plan</th>\n",
       "      <th>number_vmail_messages</th>\n",
       "      <th>total_day_minutes</th>\n",
       "      <th>total_day_calls</th>\n",
       "      <th>total_day_charge</th>\n",
       "      <th>total_eve_minutes</th>\n",
       "      <th>total_eve_calls</th>\n",
       "      <th>total_eve_charge</th>\n",
       "      <th>total_night_minutes</th>\n",
       "      <th>total_night_calls</th>\n",
       "      <th>total_night_charge</th>\n",
       "      <th>total_intl_minutes</th>\n",
       "      <th>total_intl_calls</th>\n",
       "      <th>total_intl_charge</th>\n",
       "      <th>customer_service_calls</th>\n",
       "      <th>churn</th>\n",
       "    </tr>\n",
       "  </thead>\n",
       "  <tbody>\n",
       "    <tr>\n",
       "      <th>0</th>\n",
       "      <td>16</td>\n",
       "      <td>128</td>\n",
       "      <td>415</td>\n",
       "      <td>0</td>\n",
       "      <td>1</td>\n",
       "      <td>25</td>\n",
       "      <td>265.100</td>\n",
       "      <td>110</td>\n",
       "      <td>45.070</td>\n",
       "      <td>197.400</td>\n",
       "      <td>99</td>\n",
       "      <td>16.780</td>\n",
       "      <td>244.700</td>\n",
       "      <td>91</td>\n",
       "      <td>11.010</td>\n",
       "      <td>10.000</td>\n",
       "      <td>3</td>\n",
       "      <td>2.700</td>\n",
       "      <td>1</td>\n",
       "      <td>False</td>\n",
       "    </tr>\n",
       "    <tr>\n",
       "      <th>1</th>\n",
       "      <td>35</td>\n",
       "      <td>107</td>\n",
       "      <td>415</td>\n",
       "      <td>0</td>\n",
       "      <td>1</td>\n",
       "      <td>26</td>\n",
       "      <td>161.600</td>\n",
       "      <td>123</td>\n",
       "      <td>27.470</td>\n",
       "      <td>195.500</td>\n",
       "      <td>103</td>\n",
       "      <td>16.620</td>\n",
       "      <td>254.400</td>\n",
       "      <td>103</td>\n",
       "      <td>11.450</td>\n",
       "      <td>13.700</td>\n",
       "      <td>3</td>\n",
       "      <td>3.700</td>\n",
       "      <td>1</td>\n",
       "      <td>False</td>\n",
       "    </tr>\n",
       "    <tr>\n",
       "      <th>2</th>\n",
       "      <td>31</td>\n",
       "      <td>137</td>\n",
       "      <td>415</td>\n",
       "      <td>0</td>\n",
       "      <td>0</td>\n",
       "      <td>0</td>\n",
       "      <td>243.400</td>\n",
       "      <td>114</td>\n",
       "      <td>41.380</td>\n",
       "      <td>121.200</td>\n",
       "      <td>110</td>\n",
       "      <td>10.300</td>\n",
       "      <td>162.600</td>\n",
       "      <td>104</td>\n",
       "      <td>7.320</td>\n",
       "      <td>12.200</td>\n",
       "      <td>5</td>\n",
       "      <td>3.290</td>\n",
       "      <td>0</td>\n",
       "      <td>False</td>\n",
       "    </tr>\n",
       "    <tr>\n",
       "      <th>3</th>\n",
       "      <td>35</td>\n",
       "      <td>84</td>\n",
       "      <td>408</td>\n",
       "      <td>1</td>\n",
       "      <td>0</td>\n",
       "      <td>0</td>\n",
       "      <td>299.400</td>\n",
       "      <td>71</td>\n",
       "      <td>50.900</td>\n",
       "      <td>61.900</td>\n",
       "      <td>88</td>\n",
       "      <td>5.260</td>\n",
       "      <td>196.900</td>\n",
       "      <td>89</td>\n",
       "      <td>8.860</td>\n",
       "      <td>6.600</td>\n",
       "      <td>7</td>\n",
       "      <td>1.780</td>\n",
       "      <td>2</td>\n",
       "      <td>False</td>\n",
       "    </tr>\n",
       "    <tr>\n",
       "      <th>4</th>\n",
       "      <td>36</td>\n",
       "      <td>75</td>\n",
       "      <td>415</td>\n",
       "      <td>1</td>\n",
       "      <td>0</td>\n",
       "      <td>0</td>\n",
       "      <td>166.700</td>\n",
       "      <td>113</td>\n",
       "      <td>28.340</td>\n",
       "      <td>148.300</td>\n",
       "      <td>122</td>\n",
       "      <td>12.610</td>\n",
       "      <td>186.900</td>\n",
       "      <td>121</td>\n",
       "      <td>8.410</td>\n",
       "      <td>10.100</td>\n",
       "      <td>3</td>\n",
       "      <td>2.730</td>\n",
       "      <td>3</td>\n",
       "      <td>False</td>\n",
       "    </tr>\n",
       "  </tbody>\n",
       "</table>\n",
       "</div>"
      ],
      "text/plain": [
       "   state  account_length  area_code  international_plan  voice_mail_plan  \\\n",
       "0     16             128        415                   0                1   \n",
       "1     35             107        415                   0                1   \n",
       "2     31             137        415                   0                0   \n",
       "3     35              84        408                   1                0   \n",
       "4     36              75        415                   1                0   \n",
       "\n",
       "   number_vmail_messages  total_day_minutes  total_day_calls  \\\n",
       "0                     25            265.100              110   \n",
       "1                     26            161.600              123   \n",
       "2                      0            243.400              114   \n",
       "3                      0            299.400               71   \n",
       "4                      0            166.700              113   \n",
       "\n",
       "   total_day_charge  total_eve_minutes  total_eve_calls  total_eve_charge  \\\n",
       "0            45.070            197.400               99            16.780   \n",
       "1            27.470            195.500              103            16.620   \n",
       "2            41.380            121.200              110            10.300   \n",
       "3            50.900             61.900               88             5.260   \n",
       "4            28.340            148.300              122            12.610   \n",
       "\n",
       "   total_night_minutes  total_night_calls  total_night_charge  \\\n",
       "0              244.700                 91              11.010   \n",
       "1              254.400                103              11.450   \n",
       "2              162.600                104               7.320   \n",
       "3              196.900                 89               8.860   \n",
       "4              186.900                121               8.410   \n",
       "\n",
       "   total_intl_minutes  total_intl_calls  total_intl_charge  \\\n",
       "0              10.000                 3              2.700   \n",
       "1              13.700                 3              3.700   \n",
       "2              12.200                 5              3.290   \n",
       "3               6.600                 7              1.780   \n",
       "4              10.100                 3              2.730   \n",
       "\n",
       "   customer_service_calls  churn  \n",
       "0                       1  False  \n",
       "1                       1  False  \n",
       "2                       0  False  \n",
       "3                       2  False  \n",
       "4                       3  False  "
      ]
     },
     "execution_count": 53,
     "metadata": {},
     "output_type": "execute_result"
    }
   ],
   "source": [
    "clean_df.head(5)"
   ]
  },
  {
   "cell_type": "code",
   "execution_count": 3,
   "metadata": {},
   "outputs": [
    {
     "name": "stdout",
     "output_type": "stream",
     "text": [
      "<class 'pandas.core.frame.DataFrame'>\n",
      "RangeIndex: 3333 entries, 0 to 3332\n",
      "Data columns (total 20 columns):\n",
      " #   Column                  Non-Null Count  Dtype  \n",
      "---  ------                  --------------  -----  \n",
      " 0   state                   3333 non-null   int64  \n",
      " 1   account_length          3333 non-null   int64  \n",
      " 2   area_code               3333 non-null   int64  \n",
      " 3   international_plan      3333 non-null   int64  \n",
      " 4   voice_mail_plan         3333 non-null   int64  \n",
      " 5   number_vmail_messages   3333 non-null   int64  \n",
      " 6   total_day_minutes       3333 non-null   float64\n",
      " 7   total_day_calls         3333 non-null   int64  \n",
      " 8   total_day_charge        3333 non-null   float64\n",
      " 9   total_eve_minutes       3333 non-null   float64\n",
      " 10  total_eve_calls         3333 non-null   int64  \n",
      " 11  total_eve_charge        3333 non-null   float64\n",
      " 12  total_night_minutes     3333 non-null   float64\n",
      " 13  total_night_calls       3333 non-null   int64  \n",
      " 14  total_night_charge      3333 non-null   float64\n",
      " 15  total_intl_minutes      3333 non-null   float64\n",
      " 16  total_intl_calls        3333 non-null   int64  \n",
      " 17  total_intl_charge       3333 non-null   float64\n",
      " 18  customer_service_calls  3333 non-null   int64  \n",
      " 19  churn                   3333 non-null   bool   \n",
      "dtypes: bool(1), float64(8), int64(11)\n",
      "memory usage: 498.1 KB\n"
     ]
    }
   ],
   "source": [
    "clean_df.info()"
   ]
  },
  {
   "cell_type": "markdown",
   "metadata": {},
   "source": [
    "***\n",
    "\n",
    "In these next few cells we will prepare the data for modeling by splitting, instantiating and scaling the data. \n",
    "\n",
    "\n",
    "\n",
    "\n",
    "***\n"
   ]
  },
  {
   "cell_type": "code",
   "execution_count": 4,
   "metadata": {},
   "outputs": [
    {
     "name": "stdout",
     "output_type": "stream",
     "text": [
      "(2499, 19) (834, 19)\n",
      "False   0.855\n",
      "True    0.145\n",
      "Name: churn, dtype: float64\n",
      "False   0.855\n",
      "True    0.145\n",
      "Name: churn, dtype: float64\n"
     ]
    }
   ],
   "source": [
    "# Splitting the data and stratifying due to imbalance.\n",
    "\n",
    "X = clean_df.drop([\"churn\"], axis=1)\n",
    "y = clean_df['churn']\n",
    "\n",
    "X_train, X_test, y_train, y_test = train_test_split(X, y, test_size=.25, random_state=42, stratify = y)\n",
    "\n",
    "#Looking at how the data was shaped\n",
    "print(X_train.shape, X_test.shape)\n",
    "\n",
    "# Making sure we have relatively equal percentages for train vs test targets..\n",
    "print(y_train.value_counts(normalize = True))\n",
    "print(y_test.value_counts(normalize = True))"
   ]
  },
  {
   "cell_type": "code",
   "execution_count": 5,
   "metadata": {},
   "outputs": [],
   "source": [
    "#Instantiate a scaler and transform values\n",
    "scaler = StandardScaler()\n",
    "scaler.fit(X_train)\n",
    "\n",
    "X_train_scaled= scaler.transform(X_train)\n",
    "X_test_scaled= scaler.transform(X_test)"
   ]
  },
  {
   "cell_type": "markdown",
   "metadata": {},
   "source": [
    "## Models:"
   ]
  },
  {
   "cell_type": "markdown",
   "metadata": {},
   "source": [
    "### Logistic Regression\n",
    "#### Vanilla model:\n",
    "We will run a few baseline models and see which one is a best fit. First we will start with a logistic regression model and see what the output is."
   ]
  },
  {
   "cell_type": "code",
   "execution_count": 6,
   "metadata": {},
   "outputs": [],
   "source": [
    "#Instantiate a LR model, adjusting for weight and fitting it to the scaled data\n",
    "\n",
    "baseline_lr = LogisticRegression(random_state = 42, class_weight = 'balanced').fit(X_train_scaled, y_train)\n",
    "\n"
   ]
  },
  {
   "cell_type": "code",
   "execution_count": 7,
   "metadata": {},
   "outputs": [
    {
     "name": "stdout",
     "output_type": "stream",
     "text": [
      "*******************\n",
      "***  BASELINE TEST SCORES ***\n",
      "log loss:  0.5438938018016427\n",
      "accuracy:  0.7637889688249401\n",
      "precision: 0.8571056753026642\n",
      "recall:    0.7637889688249401\n",
      "F1:   0.7933210325132711\n",
      "*******************\n"
     ]
    }
   ],
   "source": [
    "# Printing off some baseline metric scores\n",
    "\n",
    "preds= baseline_lr.predict(X_test_scaled)\n",
    "probs = baseline_lr.predict_proba(X_test_scaled)\n",
    "\n",
    "print('*******************')\n",
    "print('***  BASELINE TEST SCORES ***')\n",
    "print(\"log loss: \", log_loss(y_test, probs))\n",
    "print(\"accuracy: \", accuracy_score(y_test, preds))\n",
    "print(\"precision:\", precision_score(y_test, preds, average = 'weighted'))\n",
    "print(\"recall:   \", recall_score(y_test, preds, average = 'weighted'))\n",
    "print(\"F1:  \", f1_score(y_test, preds, average = 'weighted'))\n",
    "print('*******************')\n",
    "\n",
    "    "
   ]
  },
  {
   "cell_type": "code",
   "execution_count": 8,
   "metadata": {},
   "outputs": [
    {
     "data": {
      "image/png": "[encoded data removed]",
      "text/plain": [
       "<Figure size 432x288 with 2 Axes>"
      ]
     },
     "metadata": {
      "needs_background": "light"
     },
     "output_type": "display_data"
    }
   ],
   "source": [
    "# Displaying a confusion matrix \n",
    "plot_confusion_matrix(baseline_lr, X_test_scaled, y_test,\n",
    "                     cmap=plt.cm.Blues, normalize = 'true')\n",
    "plt.grid(False)\n",
    "plt.show()"
   ]
  },
  {
   "cell_type": "markdown",
   "metadata": {},
   "source": [
    "### Vanilla Model Findings:\n",
    "\n",
    "The initial vanilla model was no more than a Logistic Regression model. A logistic regression model, simply, is used to estimate the relationship between a dependent and one or more independent variables. In this case we are using it to model the probability of a customer churning.\n",
    "\n",
    "#### Metrics Findings\n",
    "The metrics printed off in the previous kernel are used to quantify the performance of the classifiers.\n",
    "-  log loss is difficult to interpret but good to use as a baseline and lower is generally better\n",
    "-  Precision is a straightforward measurement of true positives divided by true negatives\n",
    "-  Recall is essentially the inverse of precision\n",
    "-  Accuracy measures both true positives and true negatives by total observations\n",
    "-  F1 is a harmonic mean of both precision and recall\n",
    "\n",
    "\n",
    "### Confusion Matrix\n",
    "\n",
    "A confusion matrix is a good way to evaluate a classifier. In order to understand these matrix results I had the percentages displayed in each quadrant instead of the actual number since the dataset is not balanced. A good model will have a high percentage of True Positives and True Negatives. This initial model accurately predicted True Positives  77% of the time and True Negatives 73% of the time. Not a bad start but we would like to see higher.\n",
    "\n",
    "\n",
    "\n",
    "### *A Note on Metrics:\n",
    "A general rule of thumb with metrics is that some are better than others depending on the type of datasets and models you are working with. In our case we have an imbalanced data set and log-loss metrics are usually not used here due to them being difficult to interpret. Additionally, the accuracy score should not be used by itself for the same reason. We also mentioned that F1 is a harmonic mean of both precision and recall, which makes them useful for imbalanced data sets, therefore F1 is the metric we will focus on going forward. \n",
    "A good article on using the F1 metric on imbalanced datasets: https://neptune.ai/blog/balanced-accuracy \n",
    "\n",
    "\n",
    "### *A Note on Weighted Data:\n",
    "\n",
    "It should be mentioned that if the imbalance of this dataset was not taken into account when splitting the data and instantiating the logistic regression model, these results would be significantly different and far worse. A good reference article on this topic can be found here:\n",
    "https://towardsdatascience.com/weighted-logistic-regression-for-imbalanced-dataset-9a5cd88e68b"
   ]
  },
  {
   "cell_type": "markdown",
   "metadata": {},
   "source": [
    "****\n",
    "We took a pretty in-depth look at this first model in regards to how it works and what the results mean. We will start to look at other models and classifiers and attempt to tune them to maximum results. \n",
    "As mentioned, going forward the metric we will be focusing on is F1.\n",
    "***"
   ]
  },
  {
   "cell_type": "markdown",
   "metadata": {},
   "source": [
    "### Choosing a Model:\n",
    "\n",
    "\n",
    "The classifiers that we will explore in this next step are:\n",
    "   -  Random Forest: is an ensemble of decision trees, where each tree uses a process called 'Bagging' to ensure each tree is trained on different samples of data.\n",
    "   \n",
    "   \n",
    "   \n",
    "   -  K-Nearest Neighbors: is a distance-based classifier, meaning that it implicitly assumes that the smaller the distance between two points, the more similar they are.\n",
    "   \n",
    "   \n",
    "   \n",
    "   -  Decision Tree: is a supervised learning method used for classification and regression with the goal of creating a model that predicts the value of a target variable by learning simple decision rules inferred from the data features.\n",
    "   \n",
    "These models will be compared along with the Logistic Regression model already created.\n",
    "  \n",
    "   "
   ]
  },
  {
   "cell_type": "code",
   "execution_count": 9,
   "metadata": {},
   "outputs": [
    {
     "name": "stdout",
     "output_type": "stream",
     "text": [
      "Model: RandomForestClassifier(class_weight='balanced')\n",
      "Training F1: 1.0\n",
      "Test F1: 0.9316393701426781\n",
      "F1-Score Delta: 0.0684\n",
      "\n",
      "****************************\n",
      "\n",
      "Model: KNeighborsClassifier()\n",
      "Training F1: 0.9192016041788124\n",
      "Test F1: 0.8767635444604384\n",
      "F1-Score Delta: 0.0424\n",
      "\n",
      "****************************\n",
      "\n",
      "Model: DecisionTreeClassifier(class_weight='balanced')\n",
      "Training F1: 1.0\n",
      "Test F1: 0.8971845000978227\n",
      "F1-Score Delta: 0.103\n",
      "\n",
      "****************************\n",
      "\n",
      "Model: LogisticRegression(class_weight='balanced', random_state=42)\n",
      "Training F1: 0.8008493517809566\n",
      "Test F1: 0.7933210325132711\n",
      "F1-Score Delta: 0.00753\n",
      "\n",
      "****************************\n",
      "\n"
     ]
    }
   ],
   "source": [
    "# Finding best classifier:\n",
    "\n",
    "rf = RandomForestClassifier(class_weight = 'balanced')\n",
    "knn = KNeighborsClassifier( )\n",
    "dt = DecisionTreeClassifier(class_weight = 'balanced')\n",
    "\n",
    "models = [rf, knn, dt, baseline_lr]\n",
    "\n",
    "for model in models:\n",
    "    model.fit(X_train_scaled, y_train)\n",
    "    y_preds_test = model.predict(X_test_scaled)\n",
    "    training_preds = model.predict(X_train_scaled)\n",
    "    delta = ((f1_score(y_train, training_preds, average = 'weighted'))-f1_score(y_test, y_preds_test, average = 'weighted'))\n",
    "    print('Model:', model)\n",
    "    print('Training F1:', f1_score(y_train, training_preds, average = 'weighted'))\n",
    "    print('Test F1:', f1_score(y_test, y_preds_test, average = 'weighted'))\n",
    "    print('F1-Score Delta: {:.3}'.format(delta))\n",
    "    print('\\n****************************\\n')\n",
    "    "
   ]
  },
  {
   "cell_type": "markdown",
   "metadata": {},
   "source": [
    "***\n",
    "We are already seeing an improvement in our F1 scores from these classifiers as opposed to our logistic regression model. But we cant always take these numbers at face value, lets look take a deeper look to make sure we are optimal.\n",
    "\n",
    "-  The training score is how the model generalized or fitted in the training data. If the model fits so well in a data with lots of variance then this causes over-fitting. This causes poor result on Test Score. Because the model curved a lot to fit the training data and generalized very poorly. So, generalization is the goal.\n",
    "-  The validation test score is still in the experimental part. We keep exploring our model with this data-set. Our model is yet to call the final model in this phase. We keep changing our model until we are satisfied with the validation score we get.\n",
    "-  The delta is simply the difference between the two, the smaller the delta the better, a low number if a sign of a good fit as opposed to over/under fitting.\n"
   ]
  },
  {
   "cell_type": "markdown",
   "metadata": {},
   "source": [
    "***\n",
    "<h4>Random Forest Confusion Matrix<h4/>"
   ]
  },
  {
   "cell_type": "code",
   "execution_count": 34,
   "metadata": {},
   "outputs": [
    {
     "data": {
      "image/png": "[encoded data removed]",
      "text/plain": [
       "<Figure size 432x288 with 2 Axes>"
      ]
     },
     "metadata": {
      "needs_background": "light"
     },
     "output_type": "display_data"
    }
   ],
   "source": [
    "# Displaying a confusion matrix \n",
    "plot_confusion_matrix(rf, X_test_scaled, y_test,\n",
    "                     cmap=plt.cm.Blues, normalize = 'true')\n",
    "plt.grid(False)\n",
    "\n",
    "plt.show()"
   ]
  },
  {
   "cell_type": "markdown",
   "metadata": {},
   "source": [
    "***\n",
    "#### K-Nearest Neighbors Confusion Matrix"
   ]
  },
  {
   "cell_type": "code",
   "execution_count": 11,
   "metadata": {},
   "outputs": [
    {
     "data": {
      "image/png": "[encoded data removed]",
      "text/plain": [
       "<Figure size 432x288 with 2 Axes>"
      ]
     },
     "metadata": {
      "needs_background": "light"
     },
     "output_type": "display_data"
    }
   ],
   "source": [
    "# Displaying a confusion matrix \n",
    "plot_confusion_matrix(knn, X_test_scaled, y_test,\n",
    "                     cmap=plt.cm.Blues, normalize = 'true')\n",
    "plt.grid(False)\n",
    "\n",
    "plt.show()"
   ]
  },
  {
   "cell_type": "markdown",
   "metadata": {},
   "source": [
    "***\n",
    "#### Decision Tree Confusion Matrix"
   ]
  },
  {
   "cell_type": "code",
   "execution_count": 12,
   "metadata": {},
   "outputs": [
    {
     "data": {
      "image/png": "[encoded data removed]",
      "text/plain": [
       "<Figure size 432x288 with 2 Axes>"
      ]
     },
     "metadata": {
      "needs_background": "light"
     },
     "output_type": "display_data"
    }
   ],
   "source": [
    "# Displaying a confusion matrix \n",
    "plot_confusion_matrix(dt, X_test_scaled, y_test,\n",
    "                     cmap=plt.cm.Blues, normalize = 'true')\n",
    "plt.grid(False)\n",
    "\n",
    "plt.show()"
   ]
  },
  {
   "cell_type": "code",
   "execution_count": 13,
   "metadata": {},
   "outputs": [
    {
     "data": {
      "image/png": "[encoded data removed]",
      "text/plain": [
       "<Figure size 432x288 with 2 Axes>"
      ]
     },
     "metadata": {
      "needs_background": "light"
     },
     "output_type": "display_data"
    }
   ],
   "source": [
    "# Displaying a confusion matrix \n",
    "plot_confusion_matrix(baseline_lr, X_test_scaled, y_test,\n",
    "                     cmap=plt.cm.Blues, normalize = 'true')\n",
    "plt.grid(False)\n",
    "plt.show()\n"
   ]
  },
  {
   "cell_type": "code",
   "execution_count": 37,
   "metadata": {},
   "outputs": [
    {
     "name": "stdout",
     "output_type": "stream",
     "text": [
      "Model: RandomForestClassifier(class_weight='balanced')\n",
      "[[0.98597475 0.01402525]\n",
      " [0.33057851 0.66942149]]\n",
      "\n",
      "*******************\n",
      "\n",
      "Model: KNeighborsClassifier()\n",
      "[[0.98176718 0.01823282]\n",
      " [0.62809917 0.37190083]]\n",
      "\n",
      "*******************\n",
      "\n",
      "Model: DecisionTreeClassifier(class_weight='balanced')\n",
      "[[0.94389902 0.05610098]\n",
      " [0.3553719  0.6446281 ]]\n",
      "\n",
      "*******************\n",
      "\n",
      "Model: LogisticRegression(class_weight='balanced', random_state=42)\n",
      "[[0.76998597 0.23001403]\n",
      " [0.27272727 0.72727273]]\n",
      "\n",
      "*******************\n",
      "\n"
     ]
    }
   ],
   "source": [
    "# Print confusion all in one cell for comparison\n",
    "\n",
    "rf = RandomForestClassifier(class_weight = 'balanced')\n",
    "knn = KNeighborsClassifier()\n",
    "dt = DecisionTreeClassifier(class_weight = 'balanced')\n",
    "\n",
    "models = [rf, knn, dt, baseline_lr]\n",
    "\n",
    "for model in models:\n",
    "    model.fit(X_train_scaled, y_train)\n",
    "    y_preds_test = model.predict(X_test_scaled)\n",
    "    training_preds = model.predict(X_train_scaled)\n",
    "    cnf_matrix = confusion_matrix(y_test, y_preds_test, normalize = 'true')\n",
    "    print('Model:', model)\n",
    "    print(cnf_matrix)\n",
    "    print('\\n*******************\\n')"
   ]
  },
  {
   "cell_type": "markdown",
   "metadata": {},
   "source": [
    "   ### Findings:\n",
    "   \n",
    "   We are getting mixed results when looking at both our F1 scores and the confusion matrix. Our Logistic regression model is proving to be a good baseline, it has good F1 scores and does a good job predicting true positives and negatives, but we would like to see some improvements. The Random Forest has a very good F1 score and properly predicts True Negatives an outstanding 99% of the time. As for the True Positives it only correctly predicts them 70% of the time, not bad but we want better. The KNN and Decision Tree classifiers are very similar, but for some reason the KNN confusion matrix is showing poor output of predicting True Positives.\n",
    "\n",
    "Often times when a method fits the Training Data well but makes poor predictions we say it is Overfit to the Training Data. \n",
    "\n",
    "I'm going to tune the KNN model and see if I can get some better results."
   ]
  },
  {
   "cell_type": "markdown",
   "metadata": {},
   "source": [
    "### Tuning KNN Classifier"
   ]
  },
  {
   "cell_type": "code",
   "execution_count": 15,
   "metadata": {},
   "outputs": [
    {
     "name": "stdout",
     "output_type": "stream",
     "text": [
      "2nd Model: KNeighborsClassifier(n_neighbors=50)\n",
      "Training F1: 0.8042653926967299\n",
      "Test F1: 0.8101393584801229\n",
      "F1-Score Delta: -0.00587\n",
      "\n",
      "****************************\n",
      "\n"
     ]
    }
   ],
   "source": [
    "knn2 = KNeighborsClassifier(n_neighbors = 50)\n",
    "\n",
    "models = [knn2]\n",
    "\n",
    "for model in models:\n",
    "    model.fit(X_train_scaled, y_train)\n",
    "    y_preds_test = model.predict(X_test_scaled)\n",
    "    training_preds = model.predict(X_train_scaled)\n",
    "    delta = ((f1_score(y_train, training_preds, average = 'weighted'))-f1_score(y_test, y_preds_test, average = 'weighted'))\n",
    "    print('2nd Model:', model)\n",
    "    print('Training F1:', f1_score(y_train, training_preds, average = 'weighted'))\n",
    "    print('Test F1:', f1_score(y_test, y_preds_test, average = 'weighted'))\n",
    "    print('F1-Score Delta: {:.3}'.format(delta))\n",
    "    print('\\n****************************\\n')"
   ]
  },
  {
   "cell_type": "code",
   "execution_count": 16,
   "metadata": {},
   "outputs": [
    {
     "data": {
      "image/png": "[encoded data removed]",
      "text/plain": [
       "<Figure size 432x288 with 2 Axes>"
      ]
     },
     "metadata": {
      "needs_background": "light"
     },
     "output_type": "display_data"
    }
   ],
   "source": [
    "# Displaying a confusion matrix \n",
    "plot_confusion_matrix(knn2, X_test_scaled, y_test,\n",
    "                     cmap=plt.cm.Blues, normalize = 'true')\n",
    "plt.grid(False)\n",
    "plt.title('2nd KNN Confusion Matrix')\n",
    "plt.show()"
   ]
  },
  {
   "cell_type": "code",
   "execution_count": 17,
   "metadata": {
    "scrolled": true
   },
   "outputs": [
    {
     "name": "stdout",
     "output_type": "stream",
     "text": [
      "3rd Model: KNeighborsClassifier(metric='manhattan', n_neighbors=25)\n",
      "Training F1: 0.823786793397119\n",
      "Test F1: 0.8253363041247802\n",
      "F1-Score Delta: -0.00155\n",
      "\n",
      "****************************\n",
      "\n"
     ]
    }
   ],
   "source": [
    "rf = RandomForestClassifier()\n",
    "knn3 = KNeighborsClassifier(n_neighbors = 25, metric = 'manhattan')\n",
    "dt = DecisionTreeClassifier()\n",
    "\n",
    "models = [knn3]\n",
    "\n",
    "for model in models:\n",
    "    model.fit(X_train_scaled, y_train)\n",
    "    y_preds_test = model.predict(X_test_scaled)\n",
    "    training_preds = model.predict(X_train_scaled)\n",
    "    delta = ((f1_score(y_train, training_preds, average = 'weighted'))-f1_score(y_test, y_preds_test, average = 'weighted'))\n",
    "    print('3rd Model:', model)\n",
    "    print('Training F1:', f1_score(y_train, training_preds, average = 'weighted'))\n",
    "    print('Test F1:', f1_score(y_test, y_preds_test, average = 'weighted'))\n",
    "    print('F1-Score Delta: {:.3}'.format(delta))\n",
    "    print('\\n****************************\\n')"
   ]
  },
  {
   "cell_type": "code",
   "execution_count": 18,
   "metadata": {
    "scrolled": true
   },
   "outputs": [
    {
     "data": {
      "image/png": "[encoded data removed]",
      "text/plain": [
       "<Figure size 432x288 with 2 Axes>"
      ]
     },
     "metadata": {
      "needs_background": "light"
     },
     "output_type": "display_data"
    }
   ],
   "source": [
    "plot_confusion_matrix(knn3, X_test_scaled, y_test,\n",
    "                     cmap=plt.cm.Blues, normalize = 'true')\n",
    "plt.grid(False)\n",
    "plt.title('3rd KNN Confusion Matrix')\n",
    "\n",
    "plt.show()"
   ]
  },
  {
   "cell_type": "markdown",
   "metadata": {},
   "source": [
    "Unfortunately it does not seem the KNN model is going to be the classifier we will use.\n",
    "****"
   ]
  },
  {
   "cell_type": "markdown",
   "metadata": {},
   "source": [
    "### A Boost\n",
    "So we are making some progress in terms of finding out which classifiers work best for our case, but it would be remiss to not include one of the newer and most powerful concepts in machine learning right now, XGBoost. \n",
    "\n",
    "We mentioned that our classic classifiers use methods like bagging and leaves/branches to create decision trees, but when it comes to XGBoost it also includes a method called Gradient Descent Boosting. A good introduction to this method and algorithms used can be found here: https://www.nvidia.com/en-us/glossary/data-science/xgboost/. "
   ]
  },
  {
   "cell_type": "code",
   "execution_count": 19,
   "metadata": {},
   "outputs": [
    {
     "name": "stdout",
     "output_type": "stream",
     "text": [
      "[09:33:09] WARNING: /Users/runner/miniforge3/conda-bld/xgboost_1598185652448/work/src/learner.cc:516: \n",
      "Parameters: { class_weight } might not be used.\n",
      "\n",
      "  This may not be accurate due to some parameters are only used in language bindings but\n",
      "  passed down to XGBoost core.  Or some parameters are not used but slip through this\n",
      "  verification. Please open an issue if you find above cases.\n",
      "\n",
      "\n",
      "Training Accuracy: 100.0%\n",
      "Validation accuracy: 94.84%\n"
     ]
    }
   ],
   "source": [
    "# Instantiate XGBClassifier\n",
    "clf = XGBClassifier(class_weight = 'balanced', random_state = 42)\n",
    "\n",
    "# Fit XGBClassifier\n",
    "clf.fit(X_train_scaled, y_train)\n",
    "\n",
    "# Predict on training and test sets\n",
    "training_preds = clf.predict(X_train_scaled)\n",
    "test_preds = clf.predict(X_test_scaled)\n",
    "\n",
    "# Accuracy of training and test sets\n",
    "training_accuracy = accuracy_score(y_train, training_preds)\n",
    "test_accuracy = accuracy_score(y_test, test_preds)\n",
    "\n",
    "print('Training Accuracy: {:.4}%'.format(training_accuracy * 100))\n",
    "print('Validation accuracy: {:.4}%'.format(test_accuracy * 100))"
   ]
  },
  {
   "cell_type": "code",
   "execution_count": 20,
   "metadata": {},
   "outputs": [
    {
     "name": "stdout",
     "output_type": "stream",
     "text": [
      "Model: RandomForestClassifier()\n",
      "Training F1: 1.0\n",
      "Test F1: 0.9454451945921121\n",
      "F1-Score Delta: 0.0546\n",
      "\n",
      "****************************\n",
      "\n",
      "Model: KNeighborsClassifier()\n",
      "Training F1: 0.9192016041788124\n",
      "Test F1: 0.8767635444604384\n",
      "F1-Score Delta: 0.0424\n",
      "\n",
      "****************************\n",
      "\n",
      "Model: DecisionTreeClassifier()\n",
      "Training F1: 1.0\n",
      "Test F1: 0.903058331670049\n",
      "F1-Score Delta: 0.0969\n",
      "\n",
      "****************************\n",
      "\n",
      "Model: XGBClassifier(base_score=0.5, booster='gbtree', colsample_bylevel=1,\n",
      "              colsample_bynode=1, colsample_bytree=1, gamma=0, gpu_id=-1,\n",
      "              importance_type='gain', interaction_constraints='',\n",
      "              learning_rate=0.300000012, max_delta_step=0, max_depth=6,\n",
      "              min_child_weight=1, missing=nan, monotone_constraints='()',\n",
      "              n_estimators=100, n_jobs=0, num_parallel_tree=1, random_state=0,\n",
      "              reg_alpha=0, reg_lambda=1, scale_pos_weight=1, subsample=1,\n",
      "              tree_method='exact', validate_parameters=1, verbosity=None)\n",
      "Training F1: 1.0\n",
      "Test F1: 0.9461430203521461\n",
      "F1-Score Delta: 0.0539\n",
      "\n",
      "****************************\n",
      "\n"
     ]
    }
   ],
   "source": [
    "rf = RandomForestClassifier()\n",
    "knn = KNeighborsClassifier()\n",
    "dt = DecisionTreeClassifier()\n",
    "clf = XGBClassifier()\n",
    "models = [rf, knn, dt, clf]\n",
    "\n",
    "for model in models:\n",
    "    model.fit(X_train_scaled, y_train)\n",
    "    y_preds_test = model.predict(X_test_scaled)\n",
    "    training_preds = model.predict(X_train_scaled)\n",
    "    delta = ((f1_score(y_train, training_preds, average = 'weighted'))-f1_score(y_test, y_preds_test, average = 'weighted'))\n",
    "    print('Model:', model)\n",
    "    print('Training F1:', f1_score(y_train, training_preds, average = 'weighted'))\n",
    "    print('Test F1:', f1_score(y_test, y_preds_test, average = 'weighted'))\n",
    "    print('F1-Score Delta: {:.3}'.format(delta))\n",
    "    print('\\n****************************\\n')"
   ]
  },
  {
   "cell_type": "code",
   "execution_count": 21,
   "metadata": {},
   "outputs": [
    {
     "data": {
      "image/png": "[encoded data removed]",
      "text/plain": [
       "<Figure size 432x288 with 2 Axes>"
      ]
     },
     "metadata": {
      "needs_background": "light"
     },
     "output_type": "display_data"
    }
   ],
   "source": [
    "plot_confusion_matrix(clf, X_test_scaled, y_test,\n",
    "                     cmap=plt.cm.Blues, normalize = 'true')\n",
    "plt.grid(False)\n",
    "\n",
    "plt.show()"
   ]
  },
  {
   "cell_type": "markdown",
   "metadata": {},
   "source": [
    "Now we are on to something. The XGBoost classifier is giving us the best of both training and test scores and the confusion matrix is looking strong. This looks like the winner. \n",
    "\n",
    "For the sake of comparison we will use the XGBoost classifier and RandomForest going forward with our iterations.\n",
    "\n",
    "***\n",
    "\n",
    "## Tuning:\n",
    "\n",
    "Moving forward we will tune and iterate our models and perform grid searches that will ensure optimal results in our search for the best hyperparameters.\n",
    "\n",
    "There will be a function written to return our new tuned test and training scores and we will take a closer look at the corresponding matrices."
   ]
  },
  {
   "cell_type": "code",
   "execution_count": 22,
   "metadata": {},
   "outputs": [],
   "source": [
    "def get_metrics(clf):\n",
    "\n",
    "    training_preds = clf.predict(X_train_scaled)\n",
    "    test_preds = clf.predict(X_test_scaled)\n",
    "    \n",
    "    #(include weighted scoring due to imbalanced data)\n",
    "    clf_training_f1 = f1_score(y_train, training_preds, average = 'weighted')\n",
    "    clf_test_f1 = f1_score(y_test, test_preds, average = 'weighted')\n",
    "    clf_f1_delta = clf_training_f1 - clf_test_f1\n",
    "\n",
    "    print('Training F1-Score: {:.3}'.format(clf_training_f1))\n",
    "    print('Validation Test F1-Score: {:.3}'.format(clf_test_f1))\n",
    "    print('F1-Score Delta: {:.3}'.format(clf_f1_delta))\n",
    "    \n"
   ]
  },
  {
   "cell_type": "markdown",
   "metadata": {},
   "source": [
    "### Random Forest"
   ]
  },
  {
   "cell_type": "code",
   "execution_count": 23,
   "metadata": {},
   "outputs": [],
   "source": [
    "#  Parameters to search for the RF classifier\n",
    "\n",
    "rf_param_grid = {\n",
    "    'n_estimators': [150],\n",
    "    'criterion': ['gini', 'entropy'],\n",
    "    'max_depth': [None, 2, 4, 6, ],\n",
    "    'min_samples_split': [2, 5, 10],\n",
    "    'min_samples_leaf': [1, 3, 5]}"
   ]
  },
  {
   "cell_type": "code",
   "execution_count": 24,
   "metadata": {},
   "outputs": [
    {
     "data": {
      "text/plain": [
       "GridSearchCV(estimator=RandomForestClassifier(class_weight='balanced',\n",
       "                                              random_state=42),\n",
       "             param_grid={'criterion': ['gini', 'entropy'],\n",
       "                         'max_depth': [None, 2, 4, 6],\n",
       "                         'min_samples_leaf': [1, 3, 5],\n",
       "                         'min_samples_split': [2, 5, 10],\n",
       "                         'n_estimators': [150]},\n",
       "             scoring='f1_weighted')"
      ]
     },
     "execution_count": 24,
     "metadata": {},
     "output_type": "execute_result"
    }
   ],
   "source": [
    "# Initialize the random forest classifier, run the GridSearch, and fit the data to the model\n",
    "\n",
    "rf = RandomForestClassifier(class_weight = 'balanced', random_state = 42)\n",
    "\n",
    "rf_gs_clf = GridSearchCV(rf, rf_param_grid, scoring = 'f1_weighted')\n",
    "rf_gs_clf.fit(X_train_scaled, y_train)"
   ]
  },
  {
   "cell_type": "code",
   "execution_count": 25,
   "metadata": {},
   "outputs": [
    {
     "name": "stdout",
     "output_type": "stream",
     "text": [
      "Training F1-Score: 1.0\n",
      "Validation Test F1-Score: 0.94\n",
      "F1-Score Delta: 0.0597\n"
     ]
    }
   ],
   "source": [
    "(get_metrics(rf_gs_clf))"
   ]
  },
  {
   "cell_type": "code",
   "execution_count": 26,
   "metadata": {},
   "outputs": [
    {
     "data": {
      "image/png": "[encoded data removed]",
      "text/plain": [
       "<Figure size 432x288 with 2 Axes>"
      ]
     },
     "metadata": {
      "needs_background": "light"
     },
     "output_type": "display_data"
    }
   ],
   "source": [
    "plot_confusion_matrix(rf_gs_clf, X_test_scaled, y_test,\n",
    "                     cmap=plt.cm.Blues, normalize = 'true')\n",
    "plt.grid(False)\n",
    "plt.show()"
   ]
  },
  {
   "cell_type": "markdown",
   "metadata": {},
   "source": [
    "### XGBoost"
   ]
  },
  {
   "cell_type": "code",
   "execution_count": 27,
   "metadata": {},
   "outputs": [],
   "source": [
    "\n",
    "param_grid = {\n",
    "    'learning_rate': [0.1, 0.2],\n",
    "    'max_depth': [2, 6, 10],\n",
    "    'min_child_weight': [0, 1, 2],\n",
    "    'subsample': [0.3, 0.5, 0.7],\n",
    "    'n_estimators': [10, 30, 100],\n",
    "}\n",
    "    "
   ]
  },
  {
   "cell_type": "code",
   "execution_count": 28,
   "metadata": {
    "scrolled": true
   },
   "outputs": [
    {
     "data": {
      "text/plain": [
       "GridSearchCV(estimator=XGBClassifier(base_score=None, booster=None,\n",
       "                                     colsample_bylevel=None,\n",
       "                                     colsample_bynode=None,\n",
       "                                     colsample_bytree=None, gamma=None,\n",
       "                                     gpu_id=None, importance_type='gain',\n",
       "                                     interaction_constraints=None,\n",
       "                                     learning_rate=None, max_delta_step=None,\n",
       "                                     max_depth=None, min_child_weight=None,\n",
       "                                     missing=nan, monotone_constraints=None,\n",
       "                                     n_estimators=100, n_jobs=None,\n",
       "                                     num_parallel_tree=None, random_state=42,\n",
       "                                     reg_alpha=None, reg_lambda=None,\n",
       "                                     scale_pos_weight=None, subsample=None,\n",
       "                                     tree_method=None, validate_parameters=None,\n",
       "                                     verbosity=None),\n",
       "             param_grid={'learning_rate': [0.1, 0.2], 'max_depth': [2, 6, 10],\n",
       "                         'min_child_weight': [0, 1, 2],\n",
       "                         'n_estimators': [10, 30, 100],\n",
       "                         'subsample': [0.3, 0.5, 0.7]},\n",
       "             scoring='f1_weighted')"
      ]
     },
     "execution_count": 28,
     "metadata": {},
     "output_type": "execute_result"
    }
   ],
   "source": [
    "xgb_clf = XGBClassifier(random_state = 42)\n",
    "\n",
    "xgb_gs_clf = GridSearchCV(xgb_clf, param_grid, scoring = 'f1_weighted')\n",
    "xgb_gs_clf.fit(X_train_scaled, y_train)\n"
   ]
  },
  {
   "cell_type": "code",
   "execution_count": 29,
   "metadata": {},
   "outputs": [
    {
     "name": "stdout",
     "output_type": "stream",
     "text": [
      "Training F1-Score: 0.979\n",
      "Validation Test F1-Score: 0.94\n",
      "F1-Score Delta: 0.039\n"
     ]
    }
   ],
   "source": [
    "get_metrics(xgb_gs_clf)"
   ]
  },
  {
   "cell_type": "code",
   "execution_count": 30,
   "metadata": {
    "scrolled": true
   },
   "outputs": [
    {
     "data": {
      "image/png": "[encoded data removed]",
      "text/plain": [
       "<Figure size 432x288 with 2 Axes>"
      ]
     },
     "metadata": {
      "needs_background": "light"
     },
     "output_type": "display_data"
    }
   ],
   "source": [
    "plot_confusion_matrix(xgb_gs_clf, X_test_scaled, y_test,\n",
    "                     cmap=plt.cm.Blues, normalize = 'true')\n",
    "plt.grid(False)\n",
    "plt.show()"
   ]
  },
  {
   "cell_type": "markdown",
   "metadata": {},
   "source": [
    "### Comparing the new Random Forest and XGBoost results"
   ]
  },
  {
   "cell_type": "code",
   "execution_count": 72,
   "metadata": {},
   "outputs": [
    {
     "name": "stdout",
     "output_type": "stream",
     "text": [
      "Model: GridSearchCV(estimator=XGBClassifier(base_score=None, booster=None,\n",
      "                                     colsample_bylevel=None,\n",
      "                                     colsample_bynode=None,\n",
      "                                     colsample_bytree=None, gamma=None,\n",
      "                                     gpu_id=None, importance_type='gain',\n",
      "                                     interaction_constraints=None,\n",
      "                                     learning_rate=None, max_delta_step=None,\n",
      "                                     max_depth=None, min_child_weight=None,\n",
      "                                     missing=nan, monotone_constraints=None,\n",
      "                                     n_estimators=100, n_jobs=None,\n",
      "                                     num_parallel_tree=None, random_state=42,\n",
      "                                     reg_alpha=None, reg_lambda=None,\n",
      "                                     scale_pos_weight=None, subsample=None,\n",
      "                                     tree_method=None, validate_parameters=None,\n",
      "                                     verbosity=None),\n",
      "             param_grid={'gamma': [0.25], 'learning_rate': [0.1, 0.5, 1],\n",
      "                         'max_depth': [4], 'reg_lambda': [10.0, 20, 100],\n",
      "                         'scale_pos_weight': [3]},\n",
      "             scoring='f1_weighted')\n",
      "Training F1: 1.0\n",
      "Test F1: 0.9446529331156923\n",
      "F1-Score Delta: 0.0553\n",
      "AUC: 0.8653634393147334\n",
      "\n",
      "****************************\n",
      "\n",
      "Model: GridSearchCV(estimator=RandomForestClassifier(class_weight='balanced',\n",
      "                                              random_state=42),\n",
      "             param_grid={'criterion': ['gini', 'entropy'],\n",
      "                         'max_depth': [None, 2, 4, 6],\n",
      "                         'min_samples_leaf': [1, 3, 5],\n",
      "                         'min_samples_split': [2, 5, 10],\n",
      "                         'n_estimators': [150]},\n",
      "             scoring='f1_weighted')\n",
      "Training F1: 1.0\n",
      "Test F1: 0.9402515444188331\n",
      "F1-Score Delta: 0.0597\n",
      "AUC: 0.8653634393147334\n",
      "\n",
      "****************************\n",
      "\n"
     ]
    }
   ],
   "source": [
    "\n",
    "\n",
    "models = [xgb_gs_clf, rf_gs_clf]\n",
    "\n",
    "for model in models:\n",
    "    model.fit(X_train_scaled, y_train)\n",
    "    y_preds_test = model.predict(X_test_scaled)\n",
    "    training_preds = model.predict(X_train_scaled)\n",
    "    delta = ((f1_score(y_train, training_preds, average = 'weighted'))-f1_score(y_test, y_preds_test, average = 'weighted'))\n",
    "    print('Model:', model)\n",
    "    print('Training F1:', f1_score(y_train, training_preds, average = 'weighted'))\n",
    "    print('Test F1:', f1_score(y_test, y_preds_test, average = 'weighted'))\n",
    "    print('F1-Score Delta: {:.3}'.format(delta))\n",
    "    print('\\n****************************\\n')"
   ]
  },
  {
   "cell_type": "code",
   "execution_count": 39,
   "metadata": {},
   "outputs": [
    {
     "name": "stdout",
     "output_type": "stream",
     "text": [
      "Model: GridSearchCV(estimator=XGBClassifier(base_score=None, booster=None,\n",
      "                                     colsample_bylevel=None,\n",
      "                                     colsample_bynode=None,\n",
      "                                     colsample_bytree=None, gamma=None,\n",
      "                                     gpu_id=None, importance_type='gain',\n",
      "                                     interaction_constraints=None,\n",
      "                                     learning_rate=None, max_delta_step=None,\n",
      "                                     max_depth=None, min_child_weight=None,\n",
      "                                     missing=nan, monotone_constraints=None,\n",
      "                                     n_estimators=100, n_jobs=None,\n",
      "                                     num_parallel_tree=None, random_state=42,\n",
      "                                     reg_alpha=None, reg_lambda=None,\n",
      "                                     scale_pos_weight=None, subsample=None,\n",
      "                                     tree_method=None, validate_parameters=None,\n",
      "                                     verbosity=None),\n",
      "             param_grid={'learning_rate': [0.1, 0.2], 'max_depth': [2, 6, 10],\n",
      "                         'min_child_weight': [0, 1, 2],\n",
      "                         'n_estimators': [10, 30, 100],\n",
      "                         'subsample': [0.3, 0.5, 0.7]},\n",
      "             scoring='f1_weighted')\n",
      "[[0.98176718 0.01823282]\n",
      " [0.2892562  0.7107438 ]]\n",
      "\n",
      "*******************\n",
      "\n",
      "Model: GridSearchCV(estimator=RandomForestClassifier(class_weight='balanced',\n",
      "                                              random_state=42),\n",
      "             param_grid={'criterion': ['gini', 'entropy'],\n",
      "                         'max_depth': [None, 2, 4, 6],\n",
      "                         'min_samples_leaf': [1, 3, 5],\n",
      "                         'min_samples_split': [2, 5, 10],\n",
      "                         'n_estimators': [150]},\n",
      "             scoring='f1_weighted')\n",
      "[[0.98036466 0.01963534]\n",
      " [0.28099174 0.71900826]]\n",
      "\n",
      "*******************\n",
      "\n"
     ]
    }
   ],
   "source": [
    "models = [xgb_gs_clf, rf_gs_clf]\n",
    "\n",
    "for model in models:\n",
    "    model.fit(X_train_scaled, y_train)\n",
    "    y_preds_test = model.predict(X_test_scaled)\n",
    "    training_preds = model.predict(X_train_scaled)\n",
    "    cnf_matrix = confusion_matrix(y_test, y_preds_test, normalize = 'true')\n",
    "    print('Model:', model)\n",
    "    print(cnf_matrix)\n",
    "    print('\\n*******************\\n')"
   ]
  },
  {
   "cell_type": "markdown",
   "metadata": {},
   "source": [
    "### Iteration Findings:\n",
    "\n",
    "    XGBoost: \n",
    "    \n",
    "    Training F1-Score: 0.979\n",
    "    Validation Test F1-Score: 0.94\n",
    "    F1-Score Delta: 0.039\n",
    "    \n",
    "    Confusion Matrix:\n",
    "    [0.98176718 0.01823282]\n",
    "    [0.2892562  0.7107438 ]\n",
    "    \n",
    "\n",
    "    Random Forest:\n",
    "    \n",
    "    Training F1: 1.0\n",
    "    Test F1: 0.9402515444188331\n",
    "    F1-Score Delta: 0.0597\n",
    "    \n",
    "    Confusion Matrix:\n",
    "    [98036466 0.01963534]\n",
    "    [0.28099174 0.71900826]\n",
    "    \n",
    "\n",
    "\n",
    "After using our GridSearch Features on the 2 models we do not see many significant change to our results. \n",
    "The biggest change is our RandomForest Confusion Matrix correctly predicted True Positives 71% of the time as opposed to 65% with the original model.\n",
    "\n",
    "The XGboost model was mostly unchanged in terms of F1 scores, but the Confusion Matrix produced slightly less desirable results. \n",
    "\n",
    "That being said, something important that can be used to distinguish between 2 models that are producing similar output is to look at Type 1 Errors, which is False Positives. So that would be identifying a customer as going to churn when in fact they are not. This can be detrimental to the business because it may for example offer promotions or discounts to customers who they believe may churn when in fact they are not going to, which would cost the company money. In our case these 2 models are also very close in this regard, with RandomForest proving slightly better with 28% and XGboost at 29% \n",
    "\n",
    "\n",
    "\n",
    "**** \n",
    "### Last Iteration:\n",
    "\n",
    "I believe the RandomForset model is producing very attractive results at this stage, but I would like to tune the parameter to the XGBoost model and create one more iteration just to see if we can put it over the top.\n",
    "\n"
   ]
  },
  {
   "cell_type": "code",
   "execution_count": 42,
   "metadata": {},
   "outputs": [],
   "source": [
    "param_grid_1= {\n",
    "    'max_depth':[4],\n",
    "    'learning_rate': [0.1,0.5,1],\n",
    "    'gamma':[0.25],\n",
    "    'reg_lambda':[10.0, 20, 100],\n",
    "    'scale_pos_weight': [3]\n",
    "    \n",
    "}"
   ]
  },
  {
   "cell_type": "code",
   "execution_count": 43,
   "metadata": {},
   "outputs": [
    {
     "data": {
      "text/plain": [
       "GridSearchCV(estimator=XGBClassifier(base_score=None, booster=None,\n",
       "                                     colsample_bylevel=None,\n",
       "                                     colsample_bynode=None,\n",
       "                                     colsample_bytree=None, gamma=None,\n",
       "                                     gpu_id=None, importance_type='gain',\n",
       "                                     interaction_constraints=None,\n",
       "                                     learning_rate=None, max_delta_step=None,\n",
       "                                     max_depth=None, min_child_weight=None,\n",
       "                                     missing=nan, monotone_constraints=None,\n",
       "                                     n_estimators=100, n_jobs=None,\n",
       "                                     num_parallel_tree=None, random_state=42,\n",
       "                                     reg_alpha=None, reg_lambda=None,\n",
       "                                     scale_pos_weight=None, subsample=None,\n",
       "                                     tree_method=None, validate_parameters=None,\n",
       "                                     verbosity=None),\n",
       "             param_grid={'gamma': [0.25], 'learning_rate': [0.1, 0.5, 1],\n",
       "                         'max_depth': [4], 'reg_lambda': [10.0, 20, 100],\n",
       "                         'scale_pos_weight': [3]},\n",
       "             scoring='f1_weighted')"
      ]
     },
     "execution_count": 43,
     "metadata": {},
     "output_type": "execute_result"
    }
   ],
   "source": [
    "xgb_clf_1 = XGBClassifier(random_state = 42)\n",
    "\n",
    "xgb_gs_clf_1 = GridSearchCV(xgb_clf, param_grid_1, scoring = 'f1_weighted')\n",
    "xgb_gs_clf_1.fit(X_train_scaled, y_train)"
   ]
  },
  {
   "cell_type": "code",
   "execution_count": 44,
   "metadata": {},
   "outputs": [
    {
     "name": "stdout",
     "output_type": "stream",
     "text": [
      "Training F1-Score: 1.0\n",
      "Validation Test F1-Score: 0.945\n",
      "F1-Score Delta: 0.0553\n"
     ]
    }
   ],
   "source": [
    "get_metrics(xgb_gs_clf_1)"
   ]
  },
  {
   "cell_type": "code",
   "execution_count": 46,
   "metadata": {},
   "outputs": [
    {
     "data": {
      "image/png": "[encoded data removed]",
      "text/plain": [
       "<Figure size 432x288 with 2 Axes>"
      ]
     },
     "metadata": {
      "needs_background": "light"
     },
     "output_type": "display_data"
    }
   ],
   "source": [
    "plot_confusion_matrix(xgb_gs_clf_1, X_test_scaled, y_test,\n",
    "                     cmap=plt.cm.Blues, normalize = 'true')\n",
    "plt.grid(False)\n",
    "plt.show()"
   ]
  },
  {
   "cell_type": "code",
   "execution_count": 49,
   "metadata": {},
   "outputs": [
    {
     "name": "stdout",
     "output_type": "stream",
     "text": [
      "[16:06:55] WARNING: /Users/runner/miniforge3/conda-bld/xgboost_1598185652448/work/src/learner.cc:516: \n",
      "Parameters: { learn_rate } might not be used.\n",
      "\n",
      "  This may not be accurate due to some parameters are only used in language bindings but\n",
      "  passed down to XGBoost core.  Or some parameters are not used but slip through this\n",
      "  verification. Please open an issue if you find above cases.\n",
      "\n",
      "\n",
      "[0]\tvalidation_0-aucpr:0.28892\n",
      "Will train until validation_0-aucpr hasn't improved in 10 rounds.\n",
      "[1]\tvalidation_0-aucpr:0.59850\n",
      "[2]\tvalidation_0-aucpr:0.65018\n",
      "[3]\tvalidation_0-aucpr:0.73500\n",
      "[4]\tvalidation_0-aucpr:0.73406\n",
      "[5]\tvalidation_0-aucpr:0.74391\n",
      "[6]\tvalidation_0-aucpr:0.73752\n",
      "[7]\tvalidation_0-aucpr:0.75860\n",
      "[8]\tvalidation_0-aucpr:0.75982\n",
      "[9]\tvalidation_0-aucpr:0.75773\n",
      "[10]\tvalidation_0-aucpr:0.76705\n",
      "[11]\tvalidation_0-aucpr:0.77966\n",
      "[12]\tvalidation_0-aucpr:0.78940\n",
      "[13]\tvalidation_0-aucpr:0.79075\n",
      "[14]\tvalidation_0-aucpr:0.79453\n",
      "[15]\tvalidation_0-aucpr:0.79525\n",
      "[16]\tvalidation_0-aucpr:0.79547\n",
      "[17]\tvalidation_0-aucpr:0.79736\n",
      "[18]\tvalidation_0-aucpr:0.79887\n",
      "[19]\tvalidation_0-aucpr:0.80042\n",
      "[20]\tvalidation_0-aucpr:0.80675\n",
      "[21]\tvalidation_0-aucpr:0.81351\n",
      "[22]\tvalidation_0-aucpr:0.81377\n",
      "[23]\tvalidation_0-aucpr:0.81614\n",
      "[24]\tvalidation_0-aucpr:0.81799\n",
      "[25]\tvalidation_0-aucpr:0.82041\n",
      "[26]\tvalidation_0-aucpr:0.81969\n",
      "[27]\tvalidation_0-aucpr:0.82206\n",
      "[28]\tvalidation_0-aucpr:0.82322\n",
      "[29]\tvalidation_0-aucpr:0.82374\n",
      "[30]\tvalidation_0-aucpr:0.82676\n",
      "[31]\tvalidation_0-aucpr:0.82315\n",
      "[32]\tvalidation_0-aucpr:0.82289\n",
      "[33]\tvalidation_0-aucpr:0.82513\n",
      "[34]\tvalidation_0-aucpr:0.82604\n",
      "[35]\tvalidation_0-aucpr:0.82707\n",
      "[36]\tvalidation_0-aucpr:0.83020\n",
      "[37]\tvalidation_0-aucpr:0.82820\n",
      "[38]\tvalidation_0-aucpr:0.82759\n",
      "[39]\tvalidation_0-aucpr:0.82531\n",
      "[40]\tvalidation_0-aucpr:0.82503\n",
      "[41]\tvalidation_0-aucpr:0.82745\n",
      "[42]\tvalidation_0-aucpr:0.82561\n",
      "[43]\tvalidation_0-aucpr:0.82432\n",
      "[44]\tvalidation_0-aucpr:0.82358\n",
      "[45]\tvalidation_0-aucpr:0.82350\n",
      "[46]\tvalidation_0-aucpr:0.82353\n",
      "Stopping. Best iteration:\n",
      "[36]\tvalidation_0-aucpr:0.83020\n",
      "\n"
     ]
    },
    {
     "data": {
      "text/plain": [
       "XGBClassifier(base_score=0.5, booster='gbtree', colsample_bylevel=1,\n",
       "              colsample_bynode=1, colsample_bytree=0.5, gamma=0.25, gpu_id=-1,\n",
       "              importance_type='gain', interaction_constraints='',\n",
       "              learn_rate=0.1, learning_rate=0.300000012, max_delta_step=0,\n",
       "              max_depth=4, min_child_weight=1, missing=nan,\n",
       "              monotone_constraints='()', n_estimators=100, n_jobs=0,\n",
       "              num_parallel_tree=1, random_state=42, reg_alpha=0, reg_lambda=10,\n",
       "              scale_pos_weight=3, seed=42, subsample=0.9, tree_method='exact',\n",
       "              validate_parameters=1, verbosity=None)"
      ]
     },
     "execution_count": 49,
     "metadata": {},
     "output_type": "execute_result"
    }
   ],
   "source": [
    "final_xgb = XGBClassifier(objective='binary:logistic',\n",
    "                                 seed =42,\n",
    "                                 subsample=0.9,\n",
    "                                 colsample_bytree=0.5,\n",
    "                                 gamma= 0.25,\n",
    "                                 learn_rate = 0.1,\n",
    "                                 max_depth = 4,\n",
    "                                 reg_lambda = 10,\n",
    "                                 scale_pos_weight =3\n",
    "                                 )\n",
    "\n",
    "final_xgb.fit(X_train_scaled,\n",
    "             y_train,\n",
    "             verbose= True,\n",
    "             early_stopping_rounds = 10,\n",
    "             eval_metric='aucpr',\n",
    "             eval_set=[(X_test_scaled, y_test)])"
   ]
  },
  {
   "cell_type": "code",
   "execution_count": 50,
   "metadata": {},
   "outputs": [
    {
     "name": "stdout",
     "output_type": "stream",
     "text": [
      "Training F1-Score: 0.972\n",
      "Validation Test F1-Score: 0.934\n",
      "F1-Score Delta: 0.0385\n"
     ]
    }
   ],
   "source": [
    "get_metrics(final_xgb)"
   ]
  },
  {
   "cell_type": "code",
   "execution_count": 51,
   "metadata": {},
   "outputs": [
    {
     "data": {
      "image/png": "[encoded data removed]",
      "text/plain": [
       "<Figure size 432x288 with 2 Axes>"
      ]
     },
     "metadata": {
      "needs_background": "light"
     },
     "output_type": "display_data"
    }
   ],
   "source": [
    "plot_confusion_matrix(final_xgb, X_test_scaled, y_test,\n",
    "                     cmap=plt.cm.Blues, normalize = 'true')\n",
    "plt.grid(False)\n",
    "plt.show()"
   ]
  },
  {
   "cell_type": "markdown",
   "metadata": {},
   "source": [
    "### Evaluation of the Final Model:\n",
    "\n",
    "XGBoost(1st Iteration): \n",
    "    \n",
    "    Training F1-Score: 0.979\n",
    "    Validation Test F1-Score: 0.94\n",
    "    F1-Score Delta: 0.039\n",
    "    \n",
    "Confusion Matrix:\n",
    "\n",
    "     [0.98176718 0.01823282]\n",
    "     [0.2892562  0.7107438 ]\n",
    "    \n",
    "\n",
    "Random Forest(1st Iteration:\n",
    "    \n",
    "    Training F1: 1.0\n",
    "    Test F1: 0.9402515444188331\n",
    "    F1-Score Delta: 0.0597\n",
    "    \n",
    "    Confusion Matrix:\n",
    "    [.98036466 0.01963534]\n",
    "    [0.28099174 0.71900826]\n",
    "    \n",
    "Final XGBoost Model:\n",
    "\n",
    "      Training F1-Score: 0.972\n",
    "       Validation Test F1-Score: 0.934\n",
    "       F1-Score Delta: 0.0385\n",
    "        \n",
    "    \n",
    "\n",
    "Confusion Matrix:\n",
    "\n",
    "      [0.96    0.038]\n",
    "      [0.23     0.77]\n",
    "    \n",
    " Our last model is still showing a strong F1 score, albeit a little lower than the previous 2 models. But what we did see an improvement in is the Type 1 error of False Positives dropped to 23% and it also showed an increase in predicting true positives at 77%. \n",
    "\n",
    "***\n",
    "\n",
    "The final XGBClassifier model will be the model that we choose to move forward with, we will go over the reasons why.\n",
    "-  F1: The final F1 scores were technically slightly lower than the some of the other models but still very strong.  We see with the delta that the scores are very close together which may indicate slight overfitting which XGB tends to do, but the numbers are not too good to be true which is promising that the model still has a very good fit.\n",
    "\n",
    "- Confusion Matrix: This is where I made the decision to pick this model. The correct prediction of True Positives at over 96% is incredibly strong and close to the other models, but the 77% of correctly predicting False Negatives is significantly stronger than the other choices. It was also showed a 5% improvement of predicting Type 1 errors at 23%. As mentioned earlier, from an economical perspective this has the potential to save the company money.\n",
    "\n"
   ]
  },
  {
   "cell_type": "code",
   "execution_count": null,
   "metadata": {},
   "outputs": [],
   "source": []
  },
  {
   "cell_type": "code",
   "execution_count": null,
   "metadata": {},
   "outputs": [],
   "source": []
  }
 ],
 "metadata": {
  "kernelspec": {
   "display_name": "Python (learn-env)",
   "language": "python",
   "name": "learn-env"
  },
  "language_info": {
   "codemirror_mode": {
    "name": "ipython",
    "version": 3
   },
   "file_extension": ".py",
   "mimetype": "text/x-python",
   "name": "python",
   "nbconvert_exporter": "python",
   "pygments_lexer": "ipython3",
   "version": "3.8.5"
  }
 },
 "nbformat": 4,
 "nbformat_minor": 4
}
