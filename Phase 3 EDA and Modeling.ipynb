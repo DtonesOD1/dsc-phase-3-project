{
 "cells": [
  {
   "cell_type": "markdown",
   "metadata": {},
   "source": [
    "# Phase 3 Project\n",
    "*****\n"
   ]
  },
  {
   "cell_type": "markdown",
   "metadata": {},
   "source": [
    "## BUSINESS UNDERSTANDING\n",
    "***\n"
   ]
  },
  {
   "cell_type": "markdown",
   "metadata": {},
   "source": [
    "***\n",
    "From our initial look at Telecom's data, we see that they have an average churn rate of essentially 15%. There was no time frame given but this is usually measured over the course of a year. A general rule of thumb in business is that anything above 10% in terms of churning is too high.                                                           \n",
    "\n",
    "This leads us to believe that the company is losing money.\n",
    "\n",
    "There has been data that shows that acquiring new customers can cost 5x as much as retaining existing ones. Keeping this adage in mind is what is driving this project to attempt to lower the churn rate to anywhere from 10%-7%. If this can be successfully done the company can greatly increase it's profit margins."
   ]
  },
  {
   "cell_type": "markdown",
   "metadata": {},
   "source": [
    "## DATA UNDERSTANDING\n",
    "***\n",
    "\n",
    "In our previous notebook we gathered our needed data and explored what information was available to us to work with. A minimal amount of cleaning was needed, but now we need to continue our process of exploratory data analysis. We will inspect the dataframe and see what features are tied to the customer churn rate, and then attempt to exploit the results into better customer retention."
   ]
  },
  {
   "cell_type": "code",
   "execution_count": 61,
   "metadata": {},
   "outputs": [],
   "source": [
    "# Importing libraries that may be needed in our project along with removing scientific notation.\n",
    "\n",
    "import pandas as pd\n",
    "import numpy as np\n",
    "import matplotlib.pyplot as plt\n",
    "from matplotlib import pyplot\n",
    "import seaborn as sns\n",
    "from sklearn.preprocessing import LabelEncoder\n",
    "from sklearn.model_selection import train_test_split\n",
    "from sklearn.preprocessing import StandardScaler\n",
    "from sklearn.neighbors import KNeighborsClassifier\n",
    "from sklearn.tree import DecisionTreeClassifier\n",
    "from xgboost import XGBClassifier\n",
    "from sklearn.metrics import plot_confusion_matrix, f1_score, classification_report\n",
    "from sklearn.model_selection import GridSearchCV\n",
    "from sklearn.metrics import accuracy_score\n",
    "from sklearn.ensemble import RandomForestClassifier\n",
    "from sklearn.linear_model import LogisticRegression\n",
    "\n",
    "\n",
    "import warnings\n",
    "warnings.filterwarnings('ignore')\n",
    "%matplotlib inline\n",
    "\n",
    "pd.options.display.float_format = '{:,.3f}'.format\n",
    "pd.set_option('display.max_columns', None)\n",
    "pd.set_option('max_rows', 200)\n",
    "pd.set_option('display.max_colwidth', 150)"
   ]
  },
  {
   "cell_type": "code",
   "execution_count": 2,
   "metadata": {},
   "outputs": [
    {
     "data": {
      "text/html": [
       "<div>\n",
       "<style scoped>\n",
       "    .dataframe tbody tr th:only-of-type {\n",
       "        vertical-align: middle;\n",
       "    }\n",
       "\n",
       "    .dataframe tbody tr th {\n",
       "        vertical-align: top;\n",
       "    }\n",
       "\n",
       "    .dataframe thead th {\n",
       "        text-align: right;\n",
       "    }\n",
       "</style>\n",
       "<table border=\"1\" class=\"dataframe\">\n",
       "  <thead>\n",
       "    <tr style=\"text-align: right;\">\n",
       "      <th></th>\n",
       "      <th>state</th>\n",
       "      <th>account_length</th>\n",
       "      <th>area_code</th>\n",
       "      <th>international_plan</th>\n",
       "      <th>voice_mail_plan</th>\n",
       "      <th>number_vmail_messages</th>\n",
       "      <th>total_day_minutes</th>\n",
       "      <th>total_day_calls</th>\n",
       "      <th>total_day_charge</th>\n",
       "      <th>total_eve_minutes</th>\n",
       "      <th>total_eve_calls</th>\n",
       "      <th>total_eve_charge</th>\n",
       "      <th>total_night_minutes</th>\n",
       "      <th>total_night_calls</th>\n",
       "      <th>total_night_charge</th>\n",
       "      <th>total_intl_minutes</th>\n",
       "      <th>total_intl_calls</th>\n",
       "      <th>total_intl_charge</th>\n",
       "      <th>customer_service_calls</th>\n",
       "      <th>churn</th>\n",
       "    </tr>\n",
       "  </thead>\n",
       "  <tbody>\n",
       "    <tr>\n",
       "      <th>0</th>\n",
       "      <td>16</td>\n",
       "      <td>128</td>\n",
       "      <td>415</td>\n",
       "      <td>0</td>\n",
       "      <td>1</td>\n",
       "      <td>25</td>\n",
       "      <td>265.100</td>\n",
       "      <td>110</td>\n",
       "      <td>45.070</td>\n",
       "      <td>197.400</td>\n",
       "      <td>99</td>\n",
       "      <td>16.780</td>\n",
       "      <td>244.700</td>\n",
       "      <td>91</td>\n",
       "      <td>11.010</td>\n",
       "      <td>10.000</td>\n",
       "      <td>3</td>\n",
       "      <td>2.700</td>\n",
       "      <td>1</td>\n",
       "      <td>False</td>\n",
       "    </tr>\n",
       "    <tr>\n",
       "      <th>1</th>\n",
       "      <td>35</td>\n",
       "      <td>107</td>\n",
       "      <td>415</td>\n",
       "      <td>0</td>\n",
       "      <td>1</td>\n",
       "      <td>26</td>\n",
       "      <td>161.600</td>\n",
       "      <td>123</td>\n",
       "      <td>27.470</td>\n",
       "      <td>195.500</td>\n",
       "      <td>103</td>\n",
       "      <td>16.620</td>\n",
       "      <td>254.400</td>\n",
       "      <td>103</td>\n",
       "      <td>11.450</td>\n",
       "      <td>13.700</td>\n",
       "      <td>3</td>\n",
       "      <td>3.700</td>\n",
       "      <td>1</td>\n",
       "      <td>False</td>\n",
       "    </tr>\n",
       "    <tr>\n",
       "      <th>2</th>\n",
       "      <td>31</td>\n",
       "      <td>137</td>\n",
       "      <td>415</td>\n",
       "      <td>0</td>\n",
       "      <td>0</td>\n",
       "      <td>0</td>\n",
       "      <td>243.400</td>\n",
       "      <td>114</td>\n",
       "      <td>41.380</td>\n",
       "      <td>121.200</td>\n",
       "      <td>110</td>\n",
       "      <td>10.300</td>\n",
       "      <td>162.600</td>\n",
       "      <td>104</td>\n",
       "      <td>7.320</td>\n",
       "      <td>12.200</td>\n",
       "      <td>5</td>\n",
       "      <td>3.290</td>\n",
       "      <td>0</td>\n",
       "      <td>False</td>\n",
       "    </tr>\n",
       "    <tr>\n",
       "      <th>3</th>\n",
       "      <td>35</td>\n",
       "      <td>84</td>\n",
       "      <td>408</td>\n",
       "      <td>1</td>\n",
       "      <td>0</td>\n",
       "      <td>0</td>\n",
       "      <td>299.400</td>\n",
       "      <td>71</td>\n",
       "      <td>50.900</td>\n",
       "      <td>61.900</td>\n",
       "      <td>88</td>\n",
       "      <td>5.260</td>\n",
       "      <td>196.900</td>\n",
       "      <td>89</td>\n",
       "      <td>8.860</td>\n",
       "      <td>6.600</td>\n",
       "      <td>7</td>\n",
       "      <td>1.780</td>\n",
       "      <td>2</td>\n",
       "      <td>False</td>\n",
       "    </tr>\n",
       "    <tr>\n",
       "      <th>4</th>\n",
       "      <td>36</td>\n",
       "      <td>75</td>\n",
       "      <td>415</td>\n",
       "      <td>1</td>\n",
       "      <td>0</td>\n",
       "      <td>0</td>\n",
       "      <td>166.700</td>\n",
       "      <td>113</td>\n",
       "      <td>28.340</td>\n",
       "      <td>148.300</td>\n",
       "      <td>122</td>\n",
       "      <td>12.610</td>\n",
       "      <td>186.900</td>\n",
       "      <td>121</td>\n",
       "      <td>8.410</td>\n",
       "      <td>10.100</td>\n",
       "      <td>3</td>\n",
       "      <td>2.730</td>\n",
       "      <td>3</td>\n",
       "      <td>False</td>\n",
       "    </tr>\n",
       "  </tbody>\n",
       "</table>\n",
       "</div>"
      ],
      "text/plain": [
       "   state  account_length  area_code  international_plan  voice_mail_plan  \\\n",
       "0     16             128        415                   0                1   \n",
       "1     35             107        415                   0                1   \n",
       "2     31             137        415                   0                0   \n",
       "3     35              84        408                   1                0   \n",
       "4     36              75        415                   1                0   \n",
       "\n",
       "   number_vmail_messages  total_day_minutes  total_day_calls  \\\n",
       "0                     25            265.100              110   \n",
       "1                     26            161.600              123   \n",
       "2                      0            243.400              114   \n",
       "3                      0            299.400               71   \n",
       "4                      0            166.700              113   \n",
       "\n",
       "   total_day_charge  total_eve_minutes  total_eve_calls  total_eve_charge  \\\n",
       "0            45.070            197.400               99            16.780   \n",
       "1            27.470            195.500              103            16.620   \n",
       "2            41.380            121.200              110            10.300   \n",
       "3            50.900             61.900               88             5.260   \n",
       "4            28.340            148.300              122            12.610   \n",
       "\n",
       "   total_night_minutes  total_night_calls  total_night_charge  \\\n",
       "0              244.700                 91              11.010   \n",
       "1              254.400                103              11.450   \n",
       "2              162.600                104               7.320   \n",
       "3              196.900                 89               8.860   \n",
       "4              186.900                121               8.410   \n",
       "\n",
       "   total_intl_minutes  total_intl_calls  total_intl_charge  \\\n",
       "0              10.000                 3              2.700   \n",
       "1              13.700                 3              3.700   \n",
       "2              12.200                 5              3.290   \n",
       "3               6.600                 7              1.780   \n",
       "4              10.100                 3              2.730   \n",
       "\n",
       "   customer_service_calls  churn  \n",
       "0                       1  False  \n",
       "1                       1  False  \n",
       "2                       0  False  \n",
       "3                       2  False  \n",
       "4                       3  False  "
      ]
     },
     "execution_count": 2,
     "metadata": {},
     "output_type": "execute_result"
    }
   ],
   "source": [
    "\n",
    "clean_df = pd.read_csv('/Users/natashawyatt/Documents/Flatiron_school/Phase_3/cleaned_data.csv')\n",
    "clean_df.drop(clean_df.filter(regex=\"Unname\"),axis=1, inplace=True)\n",
    "clean_df.head()"
   ]
  },
  {
   "cell_type": "code",
   "execution_count": 3,
   "metadata": {},
   "outputs": [
    {
     "name": "stdout",
     "output_type": "stream",
     "text": [
      "<class 'pandas.core.frame.DataFrame'>\n",
      "RangeIndex: 3333 entries, 0 to 3332\n",
      "Data columns (total 20 columns):\n",
      " #   Column                  Non-Null Count  Dtype  \n",
      "---  ------                  --------------  -----  \n",
      " 0   state                   3333 non-null   int64  \n",
      " 1   account_length          3333 non-null   int64  \n",
      " 2   area_code               3333 non-null   int64  \n",
      " 3   international_plan      3333 non-null   int64  \n",
      " 4   voice_mail_plan         3333 non-null   int64  \n",
      " 5   number_vmail_messages   3333 non-null   int64  \n",
      " 6   total_day_minutes       3333 non-null   float64\n",
      " 7   total_day_calls         3333 non-null   int64  \n",
      " 8   total_day_charge        3333 non-null   float64\n",
      " 9   total_eve_minutes       3333 non-null   float64\n",
      " 10  total_eve_calls         3333 non-null   int64  \n",
      " 11  total_eve_charge        3333 non-null   float64\n",
      " 12  total_night_minutes     3333 non-null   float64\n",
      " 13  total_night_calls       3333 non-null   int64  \n",
      " 14  total_night_charge      3333 non-null   float64\n",
      " 15  total_intl_minutes      3333 non-null   float64\n",
      " 16  total_intl_calls        3333 non-null   int64  \n",
      " 17  total_intl_charge       3333 non-null   float64\n",
      " 18  customer_service_calls  3333 non-null   int64  \n",
      " 19  churn                   3333 non-null   bool   \n",
      "dtypes: bool(1), float64(8), int64(11)\n",
      "memory usage: 498.1 KB\n"
     ]
    }
   ],
   "source": [
    "#Reference\n",
    "clean_df.info()"
   ]
  },
  {
   "cell_type": "markdown",
   "metadata": {},
   "source": [
    "## DATA PREPARATION \n",
    "***\n",
    "\n",
    "After some prep work was done in the previous notebook we saw that there are 20 features and 3,333 observations/customers with an approximate churn rate of 15%. \n",
    "We will continue our exploratory data analysis with more visuals and looking at each individual feature to see what will best work for our modeling in terms of predicting and preventing customer turnover."
   ]
  },
  {
   "cell_type": "markdown",
   "metadata": {},
   "source": [
    "<h3><center>EDA</center></h3>\n"
   ]
  },
  {
   "cell_type": "markdown",
   "metadata": {},
   "source": [
    "Moving forward it would be good to have an approach in terms of attempting to find what features are most likely to indicate customer churn rate. In the past we have used a correlation table which shows what features are most correlated to a chosen feature. We will use that again and work from there."
   ]
  },
  {
   "cell_type": "code",
   "execution_count": 4,
   "metadata": {},
   "outputs": [
    {
     "data": {
      "text/plain": [
       "churn                    1.000\n",
       "international_plan       0.260\n",
       "customer_service_calls   0.209\n",
       "total_day_minutes        0.205\n",
       "total_day_charge         0.205\n",
       "voice_mail_plan          0.102\n",
       "total_eve_minutes        0.093\n",
       "total_eve_charge         0.093\n",
       "number_vmail_messages    0.090\n",
       "total_intl_charge        0.068\n",
       "total_intl_minutes       0.068\n",
       "total_intl_calls         0.053\n",
       "total_night_charge       0.035\n",
       "total_night_minutes      0.035\n",
       "total_day_calls          0.018\n",
       "account_length           0.017\n",
       "total_eve_calls          0.009\n",
       "state                    0.008\n",
       "area_code                0.006\n",
       "total_night_calls        0.006\n",
       "Name: churn, dtype: float64"
      ]
     },
     "execution_count": 4,
     "metadata": {},
     "output_type": "execute_result"
    }
   ],
   "source": [
    "df_clean_corr=clean_df.corr()['churn'].map(abs).sort_values(ascending = False) \n",
    "df_clean_corr"
   ]
  },
  {
   "cell_type": "markdown",
   "metadata": {},
   "source": [
    "***\n",
    "\n",
    " Below will be a very useful library that creates great visuals and outputs a great amount of information in regards to associations and target analysis amongst other things. This report will be saved as its own notebook accessible from the main branch. \n",
    "\n",
    " Certain features will be investigated more in this notebook, either due to a high correlation or as an attempt to better understand the data. \n",
    "\n",
    "***"
   ]
  },
  {
   "cell_type": "code",
   "execution_count": 20,
   "metadata": {},
   "outputs": [
    {
     "data": {
      "application/vnd.jupyter.widget-view+json": {
       "model_id": "b0f7701cfc4c4402809507e9322c758a",
       "version_major": 2,
       "version_minor": 0
      },
      "text/plain": [
       "HBox(children=(HTML(value=''), FloatProgress(value=0.0, layout=Layout(flex='2'), max=21.0), HTML(value='')), l…"
      ]
     },
     "metadata": {},
     "output_type": "display_data"
    },
    {
     "name": "stdout",
     "output_type": "stream",
     "text": [
      "\n",
      "Report SWEETVIZ_REPORT.html was generated! NOTEBOOK/COLAB USERS: the web browser MAY not pop up, regardless, the report IS saved in your notebook/colab files.\n"
     ]
    }
   ],
   "source": [
    "import sweetviz as sv\n",
    "sv_report = sv.analyze(clean_df, target_feat = 'churn')\n",
    "sv_report.show_html()"
   ]
  },
  {
   "cell_type": "markdown",
   "metadata": {},
   "source": [
    "### Feature #1: International Plan"
   ]
  },
  {
   "cell_type": "code",
   "execution_count": 5,
   "metadata": {},
   "outputs": [
    {
     "data": {
      "image/png": "[encoded data removed]",
      "text/plain": [
       "<Figure size 720x432 with 1 Axes>"
      ]
     },
     "metadata": {
      "needs_background": "light"
     },
     "output_type": "display_data"
    }
   ],
   "source": [
    "int_plan_churn = pd.DataFrame(clean_df.groupby(['international_plan'])['churn'].mean())\n",
    "fig = plt.subplots(figsize = (10,6))\n",
    "sns.barplot(x = [0, 1], y = 'churn', data = int_plan_churn, palette=\"Blues_d\")\n",
    "plt.title('Churn for Customers with International Plan', fontsize = 18)\n",
    "plt.xlabel('No International Plan                        International Plan', fontsize = 16)\n",
    "plt.ylabel('Churn', fontsize = 16)\n",
    "plt.tight_layout()"
   ]
  },
  {
   "cell_type": "code",
   "execution_count": 6,
   "metadata": {},
   "outputs": [
    {
     "data": {
      "text/plain": [
       "international_plan  churn\n",
       "0                   False   0.885\n",
       "                    True    0.115\n",
       "1                   False   0.576\n",
       "                    True    0.424\n",
       "Name: churn, dtype: float64"
      ]
     },
     "execution_count": 6,
     "metadata": {},
     "output_type": "execute_result"
    }
   ],
   "source": [
    "clean_df.groupby(\"international_plan\")[\"churn\"].value_counts(normalize = True)\n"
   ]
  },
  {
   "cell_type": "markdown",
   "metadata": {},
   "source": [
    "#### Findings:\n",
    "According to the correlation table, having an international plan has the highest relationship with customer churn. So the visual makes it pretty clear that a customer WITH the international plan is much more likely to churn than the customer without the plan. And to make it more concise we see in the previous cell that the churn rate for the international plan is 42.4% opposed to 11.5% without it. \n",
    "\n",
    "</break>\n",
    "\n",
    "We will have to take a look as to why this is the case, maybe there is no cost benefit to having the international plan or maybe people only sign up for it because they plan on travelling internationally and discard the plan upon return.\n",
    "\n",
    "\n",
    "\n",
    "***"
   ]
  },
  {
   "cell_type": "markdown",
   "metadata": {},
   "source": [
    "### Feature #2: Customer Service Calls"
   ]
  },
  {
   "cell_type": "code",
   "execution_count": 7,
   "metadata": {
    "scrolled": true
   },
   "outputs": [
    {
     "data": {
      "image/png": "[encoded data removed]",
      "text/plain": [
       "<Figure size 720x576 with 1 Axes>"
      ]
     },
     "metadata": {
      "needs_background": "light"
     },
     "output_type": "display_data"
    }
   ],
   "source": [
    "plt.figure(figsize=(10, 8))\n",
    "splot = sns.barplot(x='customer_service_calls', y='churn',\n",
    "                    data=clean_df, palette='Blues_d', ci = None)\n",
    "# Add annotations to bars(reference)\n",
    "for p in splot.patches:\n",
    "    splot.annotate(format(p.get_height(), '.3'), \n",
    "                   (p.get_x() + p.get_width() / 2., p.get_height()), \n",
    "                   ha = 'center', va = 'center', \n",
    "                   xytext = (0, 9), \n",
    "                   textcoords = 'offset points')\n",
    "plt.title('Customer Service Calls & Churn')\n",
    "plt.show()"
   ]
  },
  {
   "cell_type": "code",
   "execution_count": 65,
   "metadata": {},
   "outputs": [
    {
     "name": "stdout",
     "output_type": "stream",
     "text": [
      "customer_service_calls  churn\n",
      "0                       False     605\n",
      "                        True       92\n",
      "1                       False    1059\n",
      "                        True      122\n",
      "2                       False     672\n",
      "                        True       87\n",
      "3                       False     385\n",
      "                        True       44\n",
      "4                       False      90\n",
      "                        True       76\n",
      "5                       True       40\n",
      "                        False      26\n",
      "6                       True       14\n",
      "                        False       8\n",
      "7                       True        5\n",
      "                        False       4\n",
      "8                       False       1\n",
      "                        True        1\n",
      "9                       True        2\n",
      "Name: churn, dtype: int64\n"
     ]
    },
    {
     "data": {
      "image/png": "[encoded data removed]",
      "text/plain": [
       "<Figure size 432x288 with 1 Axes>"
      ]
     },
     "metadata": {
      "needs_background": "light"
     },
     "output_type": "display_data"
    }
   ],
   "source": [
    "clean_df.groupby(\"customer_service_calls\")[\"churn\"].value_counts(normalize = True).unstack().plot()\n",
    "print(clean_df.groupby(\"customer_service_calls\")[\"churn\"].value_counts())"
   ]
  },
  {
   "cell_type": "markdown",
   "metadata": {},
   "source": [
    "#### Findings:\n",
    "The findings here are somewhat predictable in the sense of the more times a customer has to call for service the more likely they are to churn. On the other hand it is worth pointing out that while the largest number of customer churn falls under 1 and 2 service calls respectively, the percentage of churn is at an acceptable level. The magic number of calls seems to be 4, where the percentage of customer churn is near 50% and for the most part only goes up from there."
   ]
  },
  {
   "cell_type": "markdown",
   "metadata": {},
   "source": [
    "***\n",
    "###  Feature #3 :Total Day Minutes & Total Day Charge"
   ]
  },
  {
   "cell_type": "code",
   "execution_count": 73,
   "metadata": {},
   "outputs": [
    {
     "data": {
      "text/html": [
       "<div>\n",
       "<style scoped>\n",
       "    .dataframe tbody tr th:only-of-type {\n",
       "        vertical-align: middle;\n",
       "    }\n",
       "\n",
       "    .dataframe tbody tr th {\n",
       "        vertical-align: top;\n",
       "    }\n",
       "\n",
       "    .dataframe thead th {\n",
       "        text-align: right;\n",
       "    }\n",
       "</style>\n",
       "<table border=\"1\" class=\"dataframe\">\n",
       "  <thead>\n",
       "    <tr style=\"text-align: right;\">\n",
       "      <th></th>\n",
       "      <th>total_day_minutes</th>\n",
       "      <th>total_day_charge</th>\n",
       "      <th>churn</th>\n",
       "    </tr>\n",
       "  </thead>\n",
       "  <tbody>\n",
       "    <tr>\n",
       "      <th>0</th>\n",
       "      <td>265.100</td>\n",
       "      <td>45.070</td>\n",
       "      <td>False</td>\n",
       "    </tr>\n",
       "    <tr>\n",
       "      <th>1</th>\n",
       "      <td>161.600</td>\n",
       "      <td>27.470</td>\n",
       "      <td>False</td>\n",
       "    </tr>\n",
       "    <tr>\n",
       "      <th>2</th>\n",
       "      <td>243.400</td>\n",
       "      <td>41.380</td>\n",
       "      <td>False</td>\n",
       "    </tr>\n",
       "    <tr>\n",
       "      <th>3</th>\n",
       "      <td>299.400</td>\n",
       "      <td>50.900</td>\n",
       "      <td>False</td>\n",
       "    </tr>\n",
       "    <tr>\n",
       "      <th>4</th>\n",
       "      <td>166.700</td>\n",
       "      <td>28.340</td>\n",
       "      <td>False</td>\n",
       "    </tr>\n",
       "  </tbody>\n",
       "</table>\n",
       "</div>"
      ],
      "text/plain": [
       "   total_day_minutes  total_day_charge  churn\n",
       "0            265.100            45.070  False\n",
       "1            161.600            27.470  False\n",
       "2            243.400            41.380  False\n",
       "3            299.400            50.900  False\n",
       "4            166.700            28.340  False"
      ]
     },
     "execution_count": 73,
     "metadata": {},
     "output_type": "execute_result"
    }
   ],
   "source": [
    "day_df = clean_df[['total_day_minutes', 'total_day_charge', 'churn']]\n",
    "day_df.head()\n"
   ]
  },
  {
   "cell_type": "code",
   "execution_count": 30,
   "metadata": {},
   "outputs": [
    {
     "data": {
      "text/html": [
       "<div>\n",
       "<style scoped>\n",
       "    .dataframe tbody tr th:only-of-type {\n",
       "        vertical-align: middle;\n",
       "    }\n",
       "\n",
       "    .dataframe tbody tr th {\n",
       "        vertical-align: top;\n",
       "    }\n",
       "\n",
       "    .dataframe thead th {\n",
       "        text-align: right;\n",
       "    }\n",
       "</style>\n",
       "<table border=\"1\" class=\"dataframe\">\n",
       "  <thead>\n",
       "    <tr style=\"text-align: right;\">\n",
       "      <th></th>\n",
       "      <th>total_day_minutes</th>\n",
       "      <th>total_day_charge</th>\n",
       "    </tr>\n",
       "    <tr>\n",
       "      <th>churn</th>\n",
       "      <th></th>\n",
       "      <th></th>\n",
       "    </tr>\n",
       "  </thead>\n",
       "  <tbody>\n",
       "    <tr>\n",
       "      <th>False</th>\n",
       "      <td>499,250.900</td>\n",
       "      <td>84,874.200</td>\n",
       "    </tr>\n",
       "    <tr>\n",
       "      <th>True</th>\n",
       "      <td>99,939.500</td>\n",
       "      <td>16,989.970</td>\n",
       "    </tr>\n",
       "  </tbody>\n",
       "</table>\n",
       "</div>"
      ],
      "text/plain": [
       "       total_day_minutes  total_day_charge\n",
       "churn                                     \n",
       "False        499,250.900        84,874.200\n",
       "True          99,939.500        16,989.970"
      ]
     },
     "execution_count": 30,
     "metadata": {},
     "output_type": "execute_result"
    }
   ],
   "source": [
    "day = day_df.groupby('churn').sum()\n",
    "day.head()"
   ]
  },
  {
   "cell_type": "code",
   "execution_count": 37,
   "metadata": {},
   "outputs": [
    {
     "data": {
      "text/html": [
       "<div>\n",
       "<style scoped>\n",
       "    .dataframe tbody tr th:only-of-type {\n",
       "        vertical-align: middle;\n",
       "    }\n",
       "\n",
       "    .dataframe tbody tr th {\n",
       "        vertical-align: top;\n",
       "    }\n",
       "\n",
       "    .dataframe thead th {\n",
       "        text-align: right;\n",
       "    }\n",
       "</style>\n",
       "<table border=\"1\" class=\"dataframe\">\n",
       "  <thead>\n",
       "    <tr style=\"text-align: right;\">\n",
       "      <th></th>\n",
       "      <th>total_day_minutes</th>\n",
       "      <th>total_day_charge</th>\n",
       "    </tr>\n",
       "  </thead>\n",
       "  <tbody>\n",
       "    <tr>\n",
       "      <th>count</th>\n",
       "      <td>3,333.000</td>\n",
       "      <td>3,333.000</td>\n",
       "    </tr>\n",
       "    <tr>\n",
       "      <th>mean</th>\n",
       "      <td>179.775</td>\n",
       "      <td>30.562</td>\n",
       "    </tr>\n",
       "    <tr>\n",
       "      <th>std</th>\n",
       "      <td>54.467</td>\n",
       "      <td>9.259</td>\n",
       "    </tr>\n",
       "    <tr>\n",
       "      <th>min</th>\n",
       "      <td>0.000</td>\n",
       "      <td>0.000</td>\n",
       "    </tr>\n",
       "    <tr>\n",
       "      <th>25%</th>\n",
       "      <td>143.700</td>\n",
       "      <td>24.430</td>\n",
       "    </tr>\n",
       "    <tr>\n",
       "      <th>50%</th>\n",
       "      <td>179.400</td>\n",
       "      <td>30.500</td>\n",
       "    </tr>\n",
       "    <tr>\n",
       "      <th>75%</th>\n",
       "      <td>216.400</td>\n",
       "      <td>36.790</td>\n",
       "    </tr>\n",
       "    <tr>\n",
       "      <th>max</th>\n",
       "      <td>350.800</td>\n",
       "      <td>59.640</td>\n",
       "    </tr>\n",
       "  </tbody>\n",
       "</table>\n",
       "</div>"
      ],
      "text/plain": [
       "       total_day_minutes  total_day_charge\n",
       "count          3,333.000         3,333.000\n",
       "mean             179.775            30.562\n",
       "std               54.467             9.259\n",
       "min                0.000             0.000\n",
       "25%              143.700            24.430\n",
       "50%              179.400            30.500\n",
       "75%              216.400            36.790\n",
       "max              350.800            59.640"
      ]
     },
     "execution_count": 37,
     "metadata": {},
     "output_type": "execute_result"
    }
   ],
   "source": [
    "day_df.describe()"
   ]
  },
  {
   "cell_type": "markdown",
   "metadata": {},
   "source": [
    "When looking into this feature, it makes sense to compare all the minute and rate categories against each other, that way we can can see if there is any obvious reason why one leads to more churn than the other. To do this we'll just divide the corresponding time of day minutes and charges against the median. "
   ]
  },
  {
   "cell_type": "code",
   "execution_count": 79,
   "metadata": {},
   "outputs": [
    {
     "name": "stdout",
     "output_type": "stream",
     "text": [
      "Day price 0.17000415454923143\n",
      "Evening price 0.085\n",
      "Night price 0.045\n",
      "International price 0.27\n"
     ]
    }
   ],
   "source": [
    "day_price =(clean_df['total_day_charge']/clean_df['total_day_minutes']).median()\n",
    "eve_price =(clean_df['total_eve_charge']/clean_df['total_eve_minutes']).median()\n",
    "night_price =(clean_df['total_night_charge']/clean_df['total_night_minutes']).median()\n",
    "int_price = (clean_df['total_intl_charge']/clean_df['total_intl_minutes']).median()\n",
    "print(\"Day price\", day_price)\n",
    "print(\"Evening price\", eve_price)\n",
    "print(\"Night price\", night_price)\n",
    "print(\"International price\", int_price)\n"
   ]
  },
  {
   "cell_type": "code",
   "execution_count": 114,
   "metadata": {
    "scrolled": true
   },
   "outputs": [
    {
     "data": {
      "image/png": "[encoded data removed]",
      "text/plain": [
       "<Figure size 432x432 with 3 Axes>"
      ]
     },
     "metadata": {
      "needs_background": "light"
     },
     "output_type": "display_data"
    }
   ],
   "source": [
    "# Using this jointplot to see the distribution of international calls and minutes.\n",
    "# It would seem the average call here is around 10minutes with a low voume of total calls.\n",
    "sns.jointplot(x=clean_df[\"total_intl_minutes\"], y=clean_df[\"total_intl_calls\"], kind='kde', color=\"Blue\")\n",
    "plt.title('Total Intl Calls vs Total Intl Minutes', loc='left')\n",
    "plt.show()"
   ]
  },
  {
   "cell_type": "markdown",
   "metadata": {},
   "source": [
    "#### Findings:\n",
    "\n",
    "These categories were a bit challenging just due to the fact that many of these plans features overlap, to say. But looking at our output from the 'sweetviz' library we see a general trend within the international minutes column of a churn rate that rises steadily as minute usage increases. The distribution of total international minutes looks quite ordinary. The same can be said for total international charges, a normal distribution with the churn rate rising steadily. For both those categories the churn rate reaches almost 25%.\n",
    "\n",
    "At this point it would seem like the reason international plans have a high churn rate is because its the most expensive and does not seem to be used often. \n",
    "\n"
   ]
  },
  {
   "cell_type": "markdown",
   "metadata": {},
   "source": [
    "### Feature #4: Voicemail"
   ]
  },
  {
   "cell_type": "code",
   "execution_count": 50,
   "metadata": {},
   "outputs": [
    {
     "data": {
      "image/png": "[encoded data removed]",
      "text/plain": [
       "<Figure size 1000x600 with 1 Axes>"
      ]
     },
     "metadata": {},
     "output_type": "display_data"
    }
   ],
   "source": [
    "vm_churn = pd.DataFrame(clean_df.groupby(['voice_mail_plan'])['churn'].mean())\n",
    "\n",
    "fig, ax = plt.subplots(figsize=(10,6))\n",
    "sns.barplot(x = [0, 1], y = 'churn', data = vm_churn, palette = 'Blues_d', ax = ax)\n",
    "plt.title('Percentage of Customer Churn for \\nCustomers with a Voice Mail Plan', fontsize = 18)\n",
    "ax.tick_params(axis = 'both', labelsize = 12)\n",
    "plt.xlabel('Voice Mail Plan True/False', fontsize = 16)\n",
    "plt.ylabel('Churn Rate', fontsize = 16)\n",
    "ax.set_xticklabels(['No VM Plan', 'Has VM Plan'])\n",
    "plt.tight_layout()"
   ]
  },
  {
   "cell_type": "markdown",
   "metadata": {},
   "source": [
    "#### Findings:\n",
    "\n",
    "Having a voicemail plan looks like it would be advantageous for the company as it greatly reduces churn rate."
   ]
  },
  {
   "cell_type": "markdown",
   "metadata": {},
   "source": [
    "\n",
    "### Feature #5:  Account Length\n",
    "Now looking at 'account length', we will attempt to visualize if there is a certain amount of days that if the customer makes it to, they are longer to stay with the service as opposed to churn."
   ]
  },
  {
   "cell_type": "code",
   "execution_count": 46,
   "metadata": {},
   "outputs": [
    {
     "data": {
      "text/plain": [
       "count   3,333.000\n",
       "mean      101.065\n",
       "std        39.822\n",
       "min         1.000\n",
       "25%        74.000\n",
       "50%       101.000\n",
       "75%       127.000\n",
       "max       243.000\n",
       "Name: account_length, dtype: float64"
      ]
     },
     "execution_count": 46,
     "metadata": {},
     "output_type": "execute_result"
    }
   ],
   "source": [
    "clean_df['account_length'].describe()"
   ]
  },
  {
   "cell_type": "code",
   "execution_count": 5,
   "metadata": {},
   "outputs": [
    {
     "data": {
      "image/png": "[encoded data removed]",
      "text/plain": [
       "<Figure size 720x432 with 1 Axes>"
      ]
     },
     "metadata": {},
     "output_type": "display_data"
    }
   ],
   "source": [
    "clean_df[clean_df['churn'] == 0].account_length.plot(kind='hist', color='tab:red', edgecolor='black', alpha=0.3, figsize=(10,6))\n",
    "clean_df[clean_df['churn'] == 1].account_length.plot(kind='hist', color='tab:green', edgecolor='black', alpha=0.6, figsize=(10,6))\n",
    "plt.legend(labels=['No Churn', 'Churn'])\n",
    "plt.title('Account length vs Churn', size=24)\n",
    "plt.xlabel('Account length', size=18)\n",
    "plt.ylabel('Frequency', size=18)\n",
    "plt.tight_layout\n",
    "\n",
    "plt.show()"
   ]
  },
  {
   "cell_type": "markdown",
   "metadata": {},
   "source": [
    "#### Findings: \n",
    "Looking at the information here we see there is normal distribution of account lengths, with the mean being 101 days. And if we reference the 'sweetviz' we see that at approximately 1 standard deviation past the mean, the churn rates starts to rise steadily going from 15% to 30%. \n",
    "\n",
    "It would seem their customer base generally does not stick around long. This could be to promotional rates or tough competition in the market. "
   ]
  },
  {
   "cell_type": "markdown",
   "metadata": {},
   "source": [
    "## DATA MODELING\n",
    "***"
   ]
  },
  {
   "cell_type": "code",
   "execution_count": 52,
   "metadata": {},
   "outputs": [],
   "source": [
    "# Preparing the data for our models:\n",
    "\n",
    "y = clean_df[\"churn\"]\n",
    "X = clean_df.drop([\"churn\"], axis=1)\n",
    "\n",
    "X_train, X_test, y_train, y_test = train_test_split(X, y, random_state = 47, stratify = y)"
   ]
  },
  {
   "cell_type": "markdown",
   "metadata": {},
   "source": [
    "It is worth noting that since we have an imbalanced dataset, it is important to set our stratify parameter to 'yes'. This ensures that our random split will have the proper proportions. "
   ]
  },
  {
   "cell_type": "code",
   "execution_count": 56,
   "metadata": {},
   "outputs": [
    {
     "data": {
      "text/plain": [
       "False    2137\n",
       "True      362\n",
       "Name: churn, dtype: int64"
      ]
     },
     "execution_count": 56,
     "metadata": {},
     "output_type": "execute_result"
    }
   ],
   "source": [
    "y_train.value_counts().sort_index()\n"
   ]
  },
  {
   "cell_type": "code",
   "execution_count": 57,
   "metadata": {},
   "outputs": [],
   "source": [
    "# Instantiate the encoder\n",
    "encoder = LabelEncoder()\n",
    "\n",
    "# Fit and transform the training data\n",
    "y_train = pd.Series(encoder.fit_transform(y_train))\n",
    "\n",
    "# Transform the test data\n",
    "y_test = pd.Series(encoder.transform(y_test))"
   ]
  },
  {
   "cell_type": "code",
   "execution_count": 66,
   "metadata": {},
   "outputs": [
    {
     "name": "stdout",
     "output_type": "stream",
     "text": [
      "Training Accuracy: 100.0%\n",
      "Validation accuracy: 94.6%\n"
     ]
    }
   ],
   "source": [
    "# Instantiate XGBClassifier\n",
    "clf = XGBClassifier()\n",
    "\n",
    "# Fit XGBClassifier\n",
    "clf.fit(X_train, y_train)\n",
    "\n",
    "# Predict on training and test sets\n",
    "training_preds = clf.predict(X_train)\n",
    "test_preds = clf.predict(X_test)\n",
    "\n",
    "# Accuracy of training and test sets\n",
    "training_accuracy = accuracy_score(y_train, training_preds)\n",
    "test_accuracy = accuracy_score(y_test, test_preds)\n",
    "\n",
    "print('Training Accuracy: {:.4}%'.format(training_accuracy * 100))\n",
    "print('Validation accuracy: {:.4}%'.format(test_accuracy * 100))"
   ]
  },
  {
   "cell_type": "markdown",
   "metadata": {},
   "source": [
    "## EVALUATION\n",
    "***"
   ]
  },
  {
   "cell_type": "code",
   "execution_count": null,
   "metadata": {},
   "outputs": [],
   "source": []
  }
 ],
 "metadata": {
  "kernelspec": {
   "display_name": "Python (learn-env)",
   "language": "python",
   "name": "learn-env"
  },
  "language_info": {
   "codemirror_mode": {
    "name": "ipython",
    "version": 3
   },
   "file_extension": ".py",
   "mimetype": "text/x-python",
   "name": "python",
   "nbconvert_exporter": "python",
   "pygments_lexer": "ipython3",
   "version": "3.8.5"
  }
 },
 "nbformat": 4,
 "nbformat_minor": 4
}
